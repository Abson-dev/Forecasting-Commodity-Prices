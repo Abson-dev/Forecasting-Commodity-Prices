{
 "cells": [
  {
   "cell_type": "markdown",
   "metadata": {},
   "source": [
    "## Forecasting Commodity Prices Using Generative Adversarial Networks (GANs) "
   ]
  },
  {
   "cell_type": "code",
   "execution_count": 37,
   "metadata": {},
   "outputs": [],
   "source": [
    "import warnings\n",
    "warnings.filterwarnings('ignore')"
   ]
  },
  {
   "cell_type": "code",
   "execution_count": 38,
   "metadata": {},
   "outputs": [],
   "source": [
    "#!pip install tensorflow\n",
    "#!pip install pydot\n"
   ]
  },
  {
   "cell_type": "code",
   "execution_count": 39,
   "metadata": {},
   "outputs": [],
   "source": [
    "# Import the pandas library, which is used for data manipulation and analysis.\n",
    "import pandas as pd\n",
    "\n",
    "# Import the numpy library for numerical operations, including handling arrays and mathematical functions.\n",
    "import numpy as np\n",
    "\n",
    "\n",
    "# Import matplotlib.pyplot for creating static, animated, and interactive visualizations in Python.\n",
    "import matplotlib.pyplot as plt\n",
    "\n",
    "# Import seaborn for statistical data visualization, which works on top of matplotlib and provides a high-level interface.\n",
    "import seaborn as sns\n",
    "\n",
    "\n",
    "# Import the Path class from pathlib to handle filesystem paths in a flexible and convenient way.\n",
    "from pathlib import Path\n",
    "\n",
    "# Import tqdm for displaying progress bars in loops or iterative processes.\n",
    "from tqdm import tqdm\n",
    "\n",
    "\n",
    "# Import MinMaxScaler from sklearn.preprocessing for feature scaling, which normalizes the data to a specified range.\n",
    "from sklearn.preprocessing import MinMaxScaler\n",
    "\n",
    "# Import the tensorflow library for deep learning and neural network modeling.\n",
    "import tensorflow as tf\n",
    "\n",
    "\n",
    "# Import specific modules from tensorflow.keras for building and training neural network models.\n",
    "from tensorflow.keras.models import Sequential, Model  # Sequential is a linear stack of layers; Model is for more complex architectures.\n",
    "from tensorflow.keras.layers import GRU, Dense, RNN, GRUCell, Input  # GRU is a type of recurrent layer; Dense is a fully connected layer; RNN is a basic recurrent layer; GRUCell is a single GRU unit; Input is used to define the input layer.\n",
    "from tensorflow.keras.losses import BinaryCrossentropy, MeanSquaredError  # Loss functions for model training; BinaryCrossentropy is used for binary classification tasks; MeanSquaredError is used for regression tasks.\n",
    "#from tensorflow.keras.optimizers.legacy import Adam  # Importing the Adam optimizer from the legacy module to be compatible with older TensorFlow versions.\n",
    "from tensorflow.keras.callbacks import TensorBoard  # TensorBoard is used for visualizing the training process.\n",
    "from tensorflow.keras.utils import plot_model  # Plot model structure for visualization.\n",
    "\n",
    "\n"
   ]
  },
  {
   "cell_type": "code",
   "execution_count": 40,
   "metadata": {},
   "outputs": [
    {
     "name": "stdout",
     "output_type": "stream",
     "text": [
      "Using CPU\n"
     ]
    }
   ],
   "source": [
    "# List all physical devices of type 'GPU' available on the system using TensorFlow's experimental API.\n",
    "gpu_devices = tf.config.experimental.list_physical_devices('GPU')\n",
    "\n",
    "# Check if any GPUs are available.\n",
    "if gpu_devices:\n",
    "    # If GPUs are available, print a message indicating that the GPU will be used.\n",
    "    print('Using GPU')\n",
    "    \n",
    "    # Enable memory growth for the first GPU device. This allows TensorFlow to allocate GPU memory dynamically as needed,\n",
    "    # rather than reserving all available GPU memory at the start.\n",
    "    tf.config.experimental.set_memory_growth(gpu_devices[0], True)\n",
    "else:\n",
    "    # If no GPUs are available, print a message indicating that the CPU will be used instead.\n",
    "    print('Using CPU')\n"
   ]
  },
  {
   "cell_type": "code",
   "execution_count": 41,
   "metadata": {},
   "outputs": [],
   "source": [
    "# Set the style of seaborn plots to 'white'. This affects the appearance of plots created using seaborn.\n",
    "sns.set_style('white')\n",
    "# Set the random seed for numpy operations to ensure reproducibility.\n",
    "np.random.seed(42)\n",
    "# Set the random seed for TensorFlow operations to ensure reproducibility.\n",
    "tf.random.set_seed(1234)\n",
    "\n"
   ]
  },
  {
   "cell_type": "code",
   "execution_count": 42,
   "metadata": {},
   "outputs": [],
   "source": [
    "results_path = Path('/Users/AHema/OneDrive - CGIAR/Desktop/2024/LSTM-ARIMA-Fouss_Boubacar_project/LSTM-ARIMA-Fouss_Boubacar_project')\n",
    "# Check if the directory specified by results_path exists.\n",
    "if not results_path.exists():\n",
    "    # If the directory does not exist, create it.\n",
    "    results_path.mkdir()\n",
    "\n",
    " "
   ]
  },
  {
   "cell_type": "code",
   "execution_count": 43,
   "metadata": {},
   "outputs": [],
   "source": [
    "# Initialize the experiment number to 0.\n",
    "experiment = 0\n",
    "\n",
    "# Create a directory path for the current experiment. The directory name will be 'experiment_00' \n",
    "# because the format string '02' specifies a two-digit number with leading zeros if necessary.\n",
    "log_dir = results_path / f'experiment_{experiment:02}'\n",
    "\n",
    "# Check if the directory for the experiment exists.\n",
    "if not log_dir.exists():\n",
    "    # If the directory does not exist, create it along with any necessary parent directories.\n",
    "    log_dir.mkdir(parents=True)\n"
   ]
  },
  {
   "cell_type": "code",
   "execution_count": 44,
   "metadata": {},
   "outputs": [],
   "source": [
    "# Define the path for storing an HDF5 file named 'TimeSeriesGAN.h5' in the results directory.\n",
    "hdf_store = results_path / 'TimeSeriesGAN.h5'\n"
   ]
  },
  {
   "cell_type": "code",
   "execution_count": 45,
   "metadata": {},
   "outputs": [
    {
     "data": {
      "text/html": [
       "<div>\n",
       "<style scoped>\n",
       "    .dataframe tbody tr th:only-of-type {\n",
       "        vertical-align: middle;\n",
       "    }\n",
       "\n",
       "    .dataframe tbody tr th {\n",
       "        vertical-align: top;\n",
       "    }\n",
       "\n",
       "    .dataframe thead th {\n",
       "        text-align: right;\n",
       "    }\n",
       "</style>\n",
       "<table border=\"1\" class=\"dataframe\">\n",
       "  <thead>\n",
       "    <tr style=\"text-align: right;\">\n",
       "      <th></th>\n",
       "      <th>PX_LAST</th>\n",
       "      <th>CHG_NET_1D</th>\n",
       "    </tr>\n",
       "    <tr>\n",
       "      <th>Date</th>\n",
       "      <th></th>\n",
       "      <th></th>\n",
       "    </tr>\n",
       "  </thead>\n",
       "  <tbody>\n",
       "    <tr>\n",
       "      <th>2024-02-01</th>\n",
       "      <td>83.060</td>\n",
       "      <td>0.320</td>\n",
       "    </tr>\n",
       "    <tr>\n",
       "      <th>2024-01-31</th>\n",
       "      <td>82.740</td>\n",
       "      <td>-1.385</td>\n",
       "    </tr>\n",
       "    <tr>\n",
       "      <th>2024-01-30</th>\n",
       "      <td>84.125</td>\n",
       "      <td>0.190</td>\n",
       "    </tr>\n",
       "    <tr>\n",
       "      <th>2024-01-29</th>\n",
       "      <td>83.935</td>\n",
       "      <td>0.655</td>\n",
       "    </tr>\n",
       "    <tr>\n",
       "      <th>2024-01-26</th>\n",
       "      <td>83.280</td>\n",
       "      <td>0.150</td>\n",
       "    </tr>\n",
       "    <tr>\n",
       "      <th>...</th>\n",
       "      <td>...</td>\n",
       "      <td>...</td>\n",
       "    </tr>\n",
       "    <tr>\n",
       "      <th>2008-01-08</th>\n",
       "      <td>95.420</td>\n",
       "      <td>2.120</td>\n",
       "    </tr>\n",
       "    <tr>\n",
       "      <th>2008-01-07</th>\n",
       "      <td>93.300</td>\n",
       "      <td>-2.580</td>\n",
       "    </tr>\n",
       "    <tr>\n",
       "      <th>2008-01-04</th>\n",
       "      <td>95.880</td>\n",
       "      <td>-0.785</td>\n",
       "    </tr>\n",
       "    <tr>\n",
       "      <th>2008-01-03</th>\n",
       "      <td>96.665</td>\n",
       "      <td>1.325</td>\n",
       "    </tr>\n",
       "    <tr>\n",
       "      <th>2008-01-02</th>\n",
       "      <td>95.340</td>\n",
       "      <td>NaN</td>\n",
       "    </tr>\n",
       "  </tbody>\n",
       "</table>\n",
       "<p>4090 rows × 2 columns</p>\n",
       "</div>"
      ],
      "text/plain": [
       "            PX_LAST  CHG_NET_1D\n",
       "Date                           \n",
       "2024-02-01   83.060       0.320\n",
       "2024-01-31   82.740      -1.385\n",
       "2024-01-30   84.125       0.190\n",
       "2024-01-29   83.935       0.655\n",
       "2024-01-26   83.280       0.150\n",
       "...             ...         ...\n",
       "2008-01-08   95.420       2.120\n",
       "2008-01-07   93.300      -2.580\n",
       "2008-01-04   95.880      -0.785\n",
       "2008-01-03   96.665       1.325\n",
       "2008-01-02   95.340         NaN\n",
       "\n",
       "[4090 rows x 2 columns]"
      ]
     },
     "execution_count": 45,
     "metadata": {},
     "output_type": "execute_result"
    }
   ],
   "source": [
    "# Read data from an Excel file into a pandas DataFrame.\n",
    "data_df = pd.read_excel(\"CRUDE_OIL_DATED_BRENT_FOB_NWE_SPOT_PRICE_.xlsx\", index_col='Date', parse_dates=True)\n",
    "\n",
    "# Display the DataFrame to inspect the loaded data.\n",
    "data_df\n"
   ]
  },
  {
   "cell_type": "markdown",
   "metadata": {},
   "source": [
    "# Parameters\n",
    "\n"
   ]
  },
  {
   "cell_type": "code",
   "execution_count": 46,
   "metadata": {},
   "outputs": [],
   "source": [
    "# Length of the input sequence for the model. \n",
    "# This means that each input sequence will consist of 24 time steps.\n",
    "seq_len = 24\n",
    "\n",
    "# Number of sequences or time series to be processed simultaneously.\n",
    "# Here n_seq = 2, the model might handle pairs of sequences.\n",
    "n_seq = 2\n",
    "\n",
    "# Batch size used during training. \n",
    "# This indicates the number of samples processed before the model’s internal parameters are updated.\n",
    "batch_size = 128\n",
    "\n",
    "# List of features that are included in the dataset\n",
    "tickers = ['PX_LAST', 'CHG_NET_1D']\n"
   ]
  },
  {
   "cell_type": "markdown",
   "metadata": {},
   "source": [
    "# Plot Series"
   ]
  },
  {
   "cell_type": "code",
   "execution_count": 47,
   "metadata": {},
   "outputs": [
    {
     "data": {
      "image/png": "[encoded data removed]",
      "text/plain": [
       "<Figure size 1400x600 with 2 Axes>"
      ]
     },
     "metadata": {},
     "output_type": "display_data"
    }
   ],
   "source": [
    "# Create subplots for each column in the DataFrame, normalize by the first row, and customize the appearance.\n",
    "axes = data_df.div(data_df.iloc[0]).plot(subplots=True,\n",
    "                               figsize=(14, 6),\n",
    "                               layout=(1, 2),\n",
    "                               title=tickers,\n",
    "                               legend=False,\n",
    "                               rot=0,\n",
    "                               lw=1, \n",
    "                               color='k')\n",
    "\n",
    "# Loop through each subplot axis and remove the x-axis label for a cleaner look.\n",
    "for ax in axes.flatten():\n",
    "    ax.set_xlabel('')\n",
    "\n",
    "# Set a common title for the entire figure.\n",
    "plt.suptitle('Oil Price Series')\n",
    "\n",
    "# Adjust the layout to ensure subplots fit well within the figure area.\n",
    "plt.gcf().tight_layout()\n",
    "\n",
    "# Remove the top and right spines of the plots for a cleaner appearance.\n",
    "sns.despine()\n"
   ]
  },
  {
   "cell_type": "markdown",
   "metadata": {},
   "source": [
    "# Normalize Data\n",
    "\n",
    "The scaled value $ X_{\\text{scaled}} $ can be computed using the formula:\n",
    "\n",
    "$$  X_{\\text{scaled}} = \\frac{X - X_{\\text{min}}}{X_{\\text{max}} - X_{\\text{min}}}  $$ \n",
    "\n",
    "where:\n",
    "\n",
    "- $ X $ is the original feature value,\n",
    "- $  X_{\\text{min}} $  is the minimum value of the feature,\n",
    "- $  X_{\\text{max}} $  is the maximum value of the feature,\n",
    "- $  X_{\\text{scaled}} $  is the scaled feature value.\n"
   ]
  },
  {
   "cell_type": "code",
   "execution_count": 48,
   "metadata": {},
   "outputs": [],
   "source": [
    "# Initialize the MinMaxScaler, which scales features to a given range, usually [0, 1].\n",
    "scaler = MinMaxScaler()\n",
    "\n",
    "# Fit the scaler to the data and transform the data to the scaled range.\n",
    "# The resulting scaled data is converted to a numpy array of type float32.\n",
    "scaled_data_df = scaler.fit_transform(data_df).astype(np.float32)\n",
    "# Convert the result back to a DataFrame\n",
    "scaled_data_df_view = pd.DataFrame(scaled_data_df, columns=data_df.columns)"
   ]
  },
  {
   "cell_type": "code",
   "execution_count": 49,
   "metadata": {},
   "outputs": [
    {
     "data": {
      "text/html": [
       "<div>\n",
       "<style scoped>\n",
       "    .dataframe tbody tr th:only-of-type {\n",
       "        vertical-align: middle;\n",
       "    }\n",
       "\n",
       "    .dataframe tbody tr th {\n",
       "        vertical-align: top;\n",
       "    }\n",
       "\n",
       "    .dataframe thead th {\n",
       "        text-align: right;\n",
       "    }\n",
       "</style>\n",
       "<table border=\"1\" class=\"dataframe\">\n",
       "  <thead>\n",
       "    <tr style=\"text-align: right;\">\n",
       "      <th></th>\n",
       "      <th>PX_LAST</th>\n",
       "      <th>CHG_NET_1D</th>\n",
       "    </tr>\n",
       "  </thead>\n",
       "  <tbody>\n",
       "    <tr>\n",
       "      <th>0</th>\n",
       "      <td>0.560554</td>\n",
       "      <td>0.546981</td>\n",
       "    </tr>\n",
       "    <tr>\n",
       "      <th>1</th>\n",
       "      <td>0.558050</td>\n",
       "      <td>0.467475</td>\n",
       "    </tr>\n",
       "    <tr>\n",
       "      <th>2</th>\n",
       "      <td>0.568886</td>\n",
       "      <td>0.540919</td>\n",
       "    </tr>\n",
       "    <tr>\n",
       "      <th>3</th>\n",
       "      <td>0.567399</td>\n",
       "      <td>0.562602</td>\n",
       "    </tr>\n",
       "    <tr>\n",
       "      <th>4</th>\n",
       "      <td>0.562275</td>\n",
       "      <td>0.539053</td>\n",
       "    </tr>\n",
       "    <tr>\n",
       "      <th>...</th>\n",
       "      <td>...</td>\n",
       "      <td>...</td>\n",
       "    </tr>\n",
       "    <tr>\n",
       "      <th>4085</th>\n",
       "      <td>0.657252</td>\n",
       "      <td>0.630916</td>\n",
       "    </tr>\n",
       "    <tr>\n",
       "      <th>4086</th>\n",
       "      <td>0.640667</td>\n",
       "      <td>0.411751</td>\n",
       "    </tr>\n",
       "    <tr>\n",
       "      <th>4087</th>\n",
       "      <td>0.660851</td>\n",
       "      <td>0.495453</td>\n",
       "    </tr>\n",
       "    <tr>\n",
       "      <th>4088</th>\n",
       "      <td>0.666993</td>\n",
       "      <td>0.593845</td>\n",
       "    </tr>\n",
       "    <tr>\n",
       "      <th>4089</th>\n",
       "      <td>0.656627</td>\n",
       "      <td>NaN</td>\n",
       "    </tr>\n",
       "  </tbody>\n",
       "</table>\n",
       "<p>4090 rows × 2 columns</p>\n",
       "</div>"
      ],
      "text/plain": [
       "       PX_LAST  CHG_NET_1D\n",
       "0     0.560554    0.546981\n",
       "1     0.558050    0.467475\n",
       "2     0.568886    0.540919\n",
       "3     0.567399    0.562602\n",
       "4     0.562275    0.539053\n",
       "...        ...         ...\n",
       "4085  0.657252    0.630916\n",
       "4086  0.640667    0.411751\n",
       "4087  0.660851    0.495453\n",
       "4088  0.666993    0.593845\n",
       "4089  0.656627         NaN\n",
       "\n",
       "[4090 rows x 2 columns]"
      ]
     },
     "execution_count": 49,
     "metadata": {},
     "output_type": "execute_result"
    }
   ],
   "source": [
    "scaled_data_df_view"
   ]
  },
  {
   "cell_type": "code",
   "execution_count": 50,
   "metadata": {},
   "outputs": [
    {
     "data": {
      "text/plain": [
       "array([[0.5605539 , 0.5469806 ],\n",
       "       [0.5580504 , 0.46747494],\n",
       "       [0.5688859 , 0.54091865],\n",
       "       ...,\n",
       "       [0.6608512 , 0.49545348],\n",
       "       [0.66699266, 0.5938447 ],\n",
       "       [0.6566265 ,        nan]], dtype=float32)"
      ]
     },
     "execution_count": 50,
     "metadata": {},
     "output_type": "execute_result"
    }
   ],
   "source": [
    "scaled_data_df"
   ]
  },
  {
   "cell_type": "code",
   "execution_count": null,
   "metadata": {},
   "outputs": [],
   "source": [
    "#Other Normalization Techniques\n",
    "\n",
    "# 1)Z-score Normalization (Standardization)\n",
    "\n",
    "#from sklearn.preprocessing import StandardScaler\n",
    "# Initialize StandardScaler\n",
    "#scaler = StandardScaler()\n",
    "# Fit and transform the data\n",
    "#standardized_data = scaler.fit_transform(df)\n",
    "# Convert the result back to a DataFrame\n",
    "#standardized_df = pd.DataFrame(standardized_data, columns=df.columns)\n",
    "\n",
    "\n",
    "# 2)Robust Scaling : uses median and interquartile range (IQR) for scaling, which makes it robust to outliers\n",
    "#from sklearn.preprocessing import RobustScaler\n",
    "# Initialize RobustScaler\n",
    "#scaler = RobustScaler()\n",
    "# Fit and transform the data\n",
    "#robust_scaled_data = scaler.fit_transform(df)\n",
    "\n",
    "#Useful to know\n",
    "#Min-Max Scaling: Useful when features have different units or scales. Ideal for algorithms that rely on distance calculations or gradient-based methods.\n",
    "#Z-score Normalization: Commonly used when features are normally distributed. Suitable for algorithms that assume normality, like linear regression and logistic regression.\n",
    "#Robust Scaling: Effective when dealing with data containing outliers. It is useful when outliers could skew the scaling."
   ]
  },
  {
   "cell_type": "markdown",
   "metadata": {},
   "source": [
    "# Create rolling window sequences"
   ]
  },
  {
   "cell_type": "code",
   "execution_count": 51,
   "metadata": {},
   "outputs": [],
   "source": [
    "# Initialize an empty list to store the data windows.\n",
    "data = []\n",
    "\n",
    "# Loop through the scaled data to create overlapping windows of length seq_len.\n",
    "for i in range(len(scaled_data_df) - seq_len):\n",
    "    # Append a window of length seq_len to the data list.\n",
    "    data.append(scaled_data_df[i:i + seq_len])\n",
    "\n",
    "# Calculate the number of windows created.\n",
    "n_windows = len(data)\n"
   ]
  },
  {
   "cell_type": "markdown",
   "metadata": {},
   "source": [
    "# Create tf.data.Dataset"
   ]
  },
  {
   "cell_type": "code",
   "execution_count": 52,
   "metadata": {},
   "outputs": [],
   "source": [
    "# Create a TensorFlow dataset from the data windows, shuffle it, and batch it.\n",
    "real_series = (tf.data.Dataset.from_tensor_slices(data)\n",
    "               .shuffle(buffer_size=n_windows)\n",
    "               .batch(batch_size))\n",
    "\n",
    "# Create an iterator for the dataset and set it to repeat indefinitely.\n",
    "real_series_iter = iter(real_series.repeat())\n"
   ]
  },
  {
   "cell_type": "code",
   "execution_count": 53,
   "metadata": {},
   "outputs": [
    {
     "data": {
      "text/plain": [
       "<_BatchDataset element_spec=TensorSpec(shape=(None, 24, 2), dtype=tf.float32, name=None)>"
      ]
     },
     "execution_count": 53,
     "metadata": {},
     "output_type": "execute_result"
    }
   ],
   "source": [
    "real_series"
   ]
  },
  {
   "cell_type": "code",
   "execution_count": 54,
   "metadata": {},
   "outputs": [
    {
     "data": {
      "text/plain": [
       "<tensorflow.python.data.ops.iterator_ops.OwnedIterator at 0x17a8c4337d0>"
      ]
     },
     "execution_count": 54,
     "metadata": {},
     "output_type": "execute_result"
    }
   ],
   "source": [
    "real_series_iter"
   ]
  },
  {
   "cell_type": "markdown",
   "metadata": {},
   "source": [
    "# Set up random series generator\n"
   ]
  },
  {
   "cell_type": "code",
   "execution_count": 55,
   "metadata": {},
   "outputs": [],
   "source": [
    "def make_random_data():\n",
    "    while True:\n",
    "        yield np.random.uniform(low=0, high=1, size=(seq_len, n_seq))\n",
    "\n",
    "# Create a TensorFlow dataset from the random data generator, batch it, and set it to repeat indefinitely.\n",
    "random_series = iter(tf.data.Dataset.from_generator(make_random_data, output_types=tf.float32).batch(batch_size).repeat())\n"
   ]
  },
  {
   "cell_type": "markdown",
   "metadata": {},
   "source": [
    "# TimeGAN Setup, Network Parameters\n"
   ]
  },
  {
   "cell_type": "code",
   "execution_count": 56,
   "metadata": {},
   "outputs": [],
   "source": [
    "#Specifies the number of units or neurons in each hidden layer of a neural network\n",
    "#In the context of recurrent neural networks (RNNs), Long Short-Term Memory networks (LSTMs), or Gated Recurrent Units (GRUs), hidden_dim refers to the number of units in the hidden state of each layer.\n",
    "#For fully connected (dense) layers, hidden_dim denotes the number of neurons in that layer.\n",
    "#Setting hidden_dim to 24 means that each hidden layer will have 24 units. This determines the capacity of the network and affects its ability to learn and represent complex patterns.\n",
    "hidden_dim = 24\n",
    "#Defines the number of hidden layers in the network\n",
    "#In RNNs, LSTMs, or GRUs, num_layers refers to the number of stacked layers in the network. For example, with num_layers = 2, the network will have two layers of RNN, LSTM, or GRU units stacked on top of each other.\n",
    "#For feedforward neural networks, it represents the number of hidden layers in the model.\n",
    "#Stacking multiple layers allows the network to capture more complex patterns and hierarchical features.\n",
    "num_layers = 2\n"
   ]
  },
  {
   "cell_type": "markdown",
   "metadata": {},
   "source": [
    "# Set up logger"
   ]
  },
  {
   "cell_type": "code",
   "execution_count": 57,
   "metadata": {},
   "outputs": [],
   "source": [
    "#Initializes a TensorFlow summary writer that logs data to a specified directory. This is used for creating logs that TensorBoard can visualize.\n",
    "writer = tf.summary.create_file_writer(log_dir.as_posix())"
   ]
  },
  {
   "cell_type": "markdown",
   "metadata": {},
   "source": [
    "# Input place holders"
   ]
  },
  {
   "cell_type": "code",
   "execution_count": 58,
   "metadata": {},
   "outputs": [],
   "source": [
    "#Creates an input layer for the real data in a Keras model\n",
    "#Specifies the shape of the input data. Here, seq_len refers to the number of time steps in each sequence, and n_seq refers to the number of features or variables in each time step. So, the shape [seq_len, n_seq] indicates that each input sequence will have seq_len time steps, and each time step will have n_seq features.\n",
    "X = Input(shape=[seq_len, n_seq], name='RealData')\n",
    "#Creates an input layer for the random data in a Keras model\n",
    "Z = Input(shape=[seq_len, n_seq], name='RandomData')"
   ]
  },
  {
   "cell_type": "code",
   "execution_count": 32,
   "metadata": {},
   "outputs": [
    {
     "data": {
      "text/plain": [
       "<KerasTensor shape=(None, 24, 2), dtype=float32, sparse=False, name=RealData>"
      ]
     },
     "execution_count": 32,
     "metadata": {},
     "output_type": "execute_result"
    }
   ],
   "source": [
    "X"
   ]
  },
  {
   "cell_type": "code",
   "execution_count": 33,
   "metadata": {},
   "outputs": [
    {
     "data": {
      "text/plain": [
       "<KerasTensor shape=(None, 24, 2), dtype=float32, sparse=False, name=RandomData>"
      ]
     },
     "execution_count": 33,
     "metadata": {},
     "output_type": "execute_result"
    }
   ],
   "source": [
    "Z"
   ]
  },
  {
   "cell_type": "markdown",
   "metadata": {},
   "source": [
    "# RNN block generator"
   ]
  },
  {
   "cell_type": "code",
   "execution_count": 59,
   "metadata": {},
   "outputs": [],
   "source": [
    "def make_rnn(n_layers, hidden_units, output_units, name):\n",
    "    return Sequential([\n",
    "        # Create a list of GRU layers with the specified number of layers.\n",
    "        GRU(units=hidden_units,\n",
    "            return_sequences=True,\n",
    "            name=f'GRU_{i + 1}')\n",
    "        for i in range(n_layers)\n",
    "    ] +\n",
    "    # Add a Dense output layer to the end of the network.\n",
    "    [Dense(units=output_units,\n",
    "           activation='relu',\n",
    "           name='OUT')],\n",
    "    name=name)\n"
   ]
  },
  {
   "cell_type": "markdown",
   "metadata": {},
   "source": [
    "# Embedder & Recovery"
   ]
  },
  {
   "cell_type": "code",
   "execution_count": 60,
   "metadata": {},
   "outputs": [],
   "source": [
    "#Creates an RNN model for embedding or feature extraction from sequence\n",
    "embedder = make_rnn(n_layers=num_layers, \n",
    "                    hidden_units=hidden_dim, \n",
    "                    output_units=hidden_dim, \n",
    "                    name='Embedder')\n",
    "#Creates an RNN model for recovering or reconstructing sequences\n",
    "recovery = make_rnn(n_layers=num_layers, \n",
    "                    hidden_units=hidden_dim, \n",
    "                    output_units=n_seq, \n",
    "                    name='Recovery')"
   ]
  },
  {
   "cell_type": "markdown",
   "metadata": {},
   "source": [
    "# Generator & Discriminator\n",
    "\n",
    "The Generator's job is to produce fake data samples from random noise. It tries to generate samples that are indistinguishable from real data. It takes a random vector (latent space) as input and produces a synthetic data sample.\n",
    "\n",
    "The Discriminator's role is to distinguish between real data samples and fake ones generated by the Generator. It outputs a probability indicating whether a given sample is real or fake."
   ]
  },
  {
   "cell_type": "code",
   "execution_count": 61,
   "metadata": {},
   "outputs": [],
   "source": [
    "# Creates an RNN model for generating sequences, typically used in Generative Adversarial Networks (GANs)  models\n",
    "generator = make_rnn(n_layers=num_layers, \n",
    "                     hidden_units=hidden_dim, \n",
    "                     output_units=hidden_dim, \n",
    "                     name='Generator')\n",
    "#Creates an RNN model for discriminating between real and generated sequences, typically used in GANs  for sequence classification.\n",
    "discriminator = make_rnn(n_layers=num_layers, \n",
    "                         hidden_units=hidden_dim, \n",
    "                         output_units=1, \n",
    "                         name='Discriminator')\n",
    "#Creates an RNN model for supervision or auxiliary tasks. The exact role of the supervisor model will depend on the context, but it is often used for tasks such as sequence prediction or additional learning objectives.\n",
    "supervisor = make_rnn(n_layers=2, \n",
    "                      hidden_units=hidden_dim, \n",
    "                      output_units=hidden_dim, \n",
    "                      name='Supervisor')"
   ]
  },
  {
   "cell_type": "markdown",
   "metadata": {},
   "source": [
    "# TimeGAN Training Settings\n",
    "\n",
    "The training process of GANs involves a game-theoretic scenario:\n",
    "\n",
    "1- Generator's Objective: To fool the Discriminator into classifying its fake samples as real. This is achieved by minimizing the Discriminator's ability to correctly identify fake samples.\n",
    "\n",
    "2 - Discriminator's Objective: To correctly classify real and fake samples. This is achieved by maximizing its accuracy in distinguishing between the two."
   ]
  },
  {
   "cell_type": "code",
   "execution_count": 62,
   "metadata": {},
   "outputs": [],
   "source": [
    "#Defines the number of training steps or iterations to run during the training process of a model\n",
    "train_steps = 10000\n",
    "#Represents a discount factor\n",
    "gamma = 1.0"
   ]
  },
  {
   "cell_type": "markdown",
   "metadata": {},
   "source": [
    "# Generic Loss Functions\n",
    "\n",
    "The loss functions for the Generator and Discriminator can be expressed as:\n",
    "\n",
    "- Discriminator Loss: Measures how well the Discriminator can differentiate between real and fake data.\n",
    "\n",
    "- Generator Loss: Measures how well the Generator's samples can fool the Discriminator.\n",
    "\n",
    "The two networks are trained iteratively:\n",
    "\n",
    "- The Generator tries to improve its ability to generate realistic data.\n",
    "- The Discriminator tries to improve its ability to distinguish real data from fake data.\n",
    "\n",
    "The Discriminator's loss function is given by:\n",
    "\n",
    "$ L_D = - \\left[ \\mathbb{E}_{x \\sim p_{\\text{data}}(x)}[\\log D(x)] + \\mathbb{E}_{z \\sim p_z(z)}[\\log (1 - D(G(z)))] \\right] $\n",
    "\n",
    "where:\n",
    "- $ x $ is a real data sample,\n",
    "- $ z $ is the noise input to the Generator,\n",
    "- $ D(x) $ is the probability that the Discriminator classifies $ x $ as real,\n",
    "- $ G(z) $ is the data generated by the Generator from noise $ z $,\n",
    "- $ D(G(z)) $ is the probability that the Discriminator classifies generated data $ G(z) $ as real.\n",
    "\n",
    "### Generator Loss\n",
    "\n",
    "The Generator's loss function is given by:\n",
    "\n",
    "$ L_G = - \\mathbb{E}_{z \\sim p_z(z)}[\\log D(G(z))] $\n",
    "\n",
    "where:\n",
    "- $ D(G(z)) $ is the probability that the Discriminator classifies the generated data $ G(z) $ as real."
   ]
  },
  {
   "cell_type": "code",
   "execution_count": 63,
   "metadata": {},
   "outputs": [],
   "source": [
    "#MSE: measures the average squared difference between predicted values and actual values.\n",
    "mse = MeanSquaredError()\n",
    "#BCE: measures the difference between the predicted probabilities and the actual class labels.\n",
    "bce = BinaryCrossentropy()"
   ]
  },
  {
   "cell_type": "markdown",
   "metadata": {},
   "source": [
    "The Mean Squared Error (MSE) is calculated using the following formula:\n",
    "\n",
    "$ \\text{MSE} = \\frac{1}{n} \\sum_{i=1}^{n} (y_i - \\hat{y}_i)^2 $\n",
    "\n",
    "where:\n",
    "- $ n $ is the number of samples,\n",
    "- $ y_i $ is the actual value for the $i$-th sample,\n",
    "- $ \\hat{y}_i $ is the predicted value for the $i$-th sample.\n",
    "\n",
    "The Binary Crossentropy loss is calculated using the following formula:\n",
    "\n",
    "$ \\text{Binary Crossentropy} = - \\frac{1}{n} \\sum_{i=1}^{n} [y_i \\log(\\hat{y}_i) + (1 - y_i) \\log(1 - \\hat{y}_i)] $\n",
    "\n",
    "where:\n",
    "- $ n $ is the number of samples,\n",
    "- $ y_i $ is the actual binary label for the $i$-th sample (0 or 1),\n",
    "- $ \\hat{y}_i $ is the predicted probability of the positive class (1) for the $i$-th sample.\n",
    "\n"
   ]
  },
  {
   "cell_type": "markdown",
   "metadata": {},
   "source": [
    "# Phase 1: Autoencoder Training"
   ]
  },
  {
   "cell_type": "code",
   "execution_count": 64,
   "metadata": {},
   "outputs": [],
   "source": [
    "H = embedder(X) #\n",
    "X_tilde = recovery(H)\n",
    "\n",
    "#creates a Keras Model object that combines the encoder and decoder to form the complete autoencoder.\n",
    "autoencoder = Model(inputs=X,\n",
    "                    outputs=X_tilde,\n",
    "                    name='Autoencoder')"
   ]
  },
  {
   "cell_type": "code",
   "execution_count": 65,
   "metadata": {},
   "outputs": [
    {
     "data": {
      "text/html": [
       "<pre style=\"white-space:pre;overflow-x:auto;line-height:normal;font-family:Menlo,'DejaVu Sans Mono',consolas,'Courier New',monospace\"><span style=\"font-weight: bold\">Model: \"Autoencoder\"</span>\n",
       "</pre>\n"
      ],
      "text/plain": [
       "\u001b[1mModel: \"Autoencoder\"\u001b[0m\n"
      ]
     },
     "metadata": {},
     "output_type": "display_data"
    },
    {
     "data": {
      "text/html": [
       "<pre style=\"white-space:pre;overflow-x:auto;line-height:normal;font-family:Menlo,'DejaVu Sans Mono',consolas,'Courier New',monospace\">┏━━━━━━━━━━━━━━━━━━━━━━━━━━━━━━━━━━━━━━┳━━━━━━━━━━━━━━━━━━━━━━━━━━━━━┳━━━━━━━━━━━━━━━━━┓\n",
       "┃<span style=\"font-weight: bold\"> Layer (type)                         </span>┃<span style=\"font-weight: bold\"> Output Shape                </span>┃<span style=\"font-weight: bold\">         Param # </span>┃\n",
       "┡━━━━━━━━━━━━━━━━━━━━━━━━━━━━━━━━━━━━━━╇━━━━━━━━━━━━━━━━━━━━━━━━━━━━━╇━━━━━━━━━━━━━━━━━┩\n",
       "│ RealData (<span style=\"color: #0087ff; text-decoration-color: #0087ff\">InputLayer</span>)                │ (<span style=\"color: #00d7ff; text-decoration-color: #00d7ff\">None</span>, <span style=\"color: #00af00; text-decoration-color: #00af00\">24</span>, <span style=\"color: #00af00; text-decoration-color: #00af00\">2</span>)               │               <span style=\"color: #00af00; text-decoration-color: #00af00\">0</span> │\n",
       "├──────────────────────────────────────┼─────────────────────────────┼─────────────────┤\n",
       "│ Embedder (<span style=\"color: #0087ff; text-decoration-color: #0087ff\">Sequential</span>)                │ (<span style=\"color: #00d7ff; text-decoration-color: #00d7ff\">None</span>, <span style=\"color: #00af00; text-decoration-color: #00af00\">24</span>, <span style=\"color: #00af00; text-decoration-color: #00af00\">24</span>)              │           <span style=\"color: #00af00; text-decoration-color: #00af00\">6,216</span> │\n",
       "├──────────────────────────────────────┼─────────────────────────────┼─────────────────┤\n",
       "│ Recovery (<span style=\"color: #0087ff; text-decoration-color: #0087ff\">Sequential</span>)                │ (<span style=\"color: #00d7ff; text-decoration-color: #00d7ff\">None</span>, <span style=\"color: #00af00; text-decoration-color: #00af00\">24</span>, <span style=\"color: #00af00; text-decoration-color: #00af00\">2</span>)               │           <span style=\"color: #00af00; text-decoration-color: #00af00\">7,250</span> │\n",
       "└──────────────────────────────────────┴─────────────────────────────┴─────────────────┘\n",
       "</pre>\n"
      ],
      "text/plain": [
       "┏━━━━━━━━━━━━━━━━━━━━━━━━━━━━━━━━━━━━━━┳━━━━━━━━━━━━━━━━━━━━━━━━━━━━━┳━━━━━━━━━━━━━━━━━┓\n",
       "┃\u001b[1m \u001b[0m\u001b[1mLayer (type)                        \u001b[0m\u001b[1m \u001b[0m┃\u001b[1m \u001b[0m\u001b[1mOutput Shape               \u001b[0m\u001b[1m \u001b[0m┃\u001b[1m \u001b[0m\u001b[1m        Param #\u001b[0m\u001b[1m \u001b[0m┃\n",
       "┡━━━━━━━━━━━━━━━━━━━━━━━━━━━━━━━━━━━━━━╇━━━━━━━━━━━━━━━━━━━━━━━━━━━━━╇━━━━━━━━━━━━━━━━━┩\n",
       "│ RealData (\u001b[38;5;33mInputLayer\u001b[0m)                │ (\u001b[38;5;45mNone\u001b[0m, \u001b[38;5;34m24\u001b[0m, \u001b[38;5;34m2\u001b[0m)               │               \u001b[38;5;34m0\u001b[0m │\n",
       "├──────────────────────────────────────┼─────────────────────────────┼─────────────────┤\n",
       "│ Embedder (\u001b[38;5;33mSequential\u001b[0m)                │ (\u001b[38;5;45mNone\u001b[0m, \u001b[38;5;34m24\u001b[0m, \u001b[38;5;34m24\u001b[0m)              │           \u001b[38;5;34m6,216\u001b[0m │\n",
       "├──────────────────────────────────────┼─────────────────────────────┼─────────────────┤\n",
       "│ Recovery (\u001b[38;5;33mSequential\u001b[0m)                │ (\u001b[38;5;45mNone\u001b[0m, \u001b[38;5;34m24\u001b[0m, \u001b[38;5;34m2\u001b[0m)               │           \u001b[38;5;34m7,250\u001b[0m │\n",
       "└──────────────────────────────────────┴─────────────────────────────┴─────────────────┘\n"
      ]
     },
     "metadata": {},
     "output_type": "display_data"
    },
    {
     "data": {
      "text/html": [
       "<pre style=\"white-space:pre;overflow-x:auto;line-height:normal;font-family:Menlo,'DejaVu Sans Mono',consolas,'Courier New',monospace\"><span style=\"font-weight: bold\"> Total params: </span><span style=\"color: #00af00; text-decoration-color: #00af00\">13,466</span> (52.60 KB)\n",
       "</pre>\n"
      ],
      "text/plain": [
       "\u001b[1m Total params: \u001b[0m\u001b[38;5;34m13,466\u001b[0m (52.60 KB)\n"
      ]
     },
     "metadata": {},
     "output_type": "display_data"
    },
    {
     "data": {
      "text/html": [
       "<pre style=\"white-space:pre;overflow-x:auto;line-height:normal;font-family:Menlo,'DejaVu Sans Mono',consolas,'Courier New',monospace\"><span style=\"font-weight: bold\"> Trainable params: </span><span style=\"color: #00af00; text-decoration-color: #00af00\">13,466</span> (52.60 KB)\n",
       "</pre>\n"
      ],
      "text/plain": [
       "\u001b[1m Trainable params: \u001b[0m\u001b[38;5;34m13,466\u001b[0m (52.60 KB)\n"
      ]
     },
     "metadata": {},
     "output_type": "display_data"
    },
    {
     "data": {
      "text/html": [
       "<pre style=\"white-space:pre;overflow-x:auto;line-height:normal;font-family:Menlo,'DejaVu Sans Mono',consolas,'Courier New',monospace\"><span style=\"font-weight: bold\"> Non-trainable params: </span><span style=\"color: #00af00; text-decoration-color: #00af00\">0</span> (0.00 B)\n",
       "</pre>\n"
      ],
      "text/plain": [
       "\u001b[1m Non-trainable params: \u001b[0m\u001b[38;5;34m0\u001b[0m (0.00 B)\n"
      ]
     },
     "metadata": {},
     "output_type": "display_data"
    }
   ],
   "source": [
    "#provides a comprehensive overview of the model's architecture\n",
    "autoencoder.summary()"
   ]
  },
  {
   "cell_type": "markdown",
   "metadata": {},
   "source": [
    "Interpretation of the Summary\n",
    "\n",
    "- Layer (type): Lists the type and name of each layer. \n",
    "\n",
    "- Output Shape: Displays the shape of the data at each layer. **None** indicates the batch size can be any number (not fixed). **24** and **2** are the dimensions of the input data. In this case, it suggests that each input is a sequence of length **24** with **2** features (or dimensions).\n",
    "\n",
    "- Param #: The number of parameters in each layer, including weights and biases. **6 216** is the total number of parameters in the Embedder block. These parameters include weights and biases of the layers within this block.\n",
    "\n",
    "- Total params: The total number of parameters in the model. This is important for evaluating the model’s capacity and for potential overfitting issues. "
   ]
  },
  {
   "cell_type": "code",
   "execution_count": 67,
   "metadata": {},
   "outputs": [
    {
     "name": "stdout",
     "output_type": "stream",
     "text": [
      "Requirement already satisfied: pydot in c:\\users\\ahema\\appdata\\local\\anaconda3\\lib\\site-packages (3.0.1)\n",
      "Requirement already satisfied: graphviz in c:\\users\\ahema\\appdata\\local\\anaconda3\\lib\\site-packages (0.20.3)\n",
      "Requirement already satisfied: pyparsing>=3.0.9 in c:\\users\\ahema\\appdata\\local\\anaconda3\\lib\\site-packages (from pydot) (3.0.9)\n"
     ]
    }
   ],
   "source": [
    "!pip install pydot graphviz\n"
   ]
  },
  {
   "cell_type": "code",
   "execution_count": 69,
   "metadata": {},
   "outputs": [],
   "source": [
    "#import pydot\n",
    "#import graphviz\n",
    "#plot_model(autoencoder,\n",
    "#        to_file=(results_path / 'autoencoder.png').as_posix(),\n",
    "#        show_shapes=True)"
   ]
  },
  {
   "cell_type": "code",
   "execution_count": 70,
   "metadata": {},
   "outputs": [],
   "source": [
    "from tensorflow.keras.optimizers import Adam, SGD\n",
    "\n",
    "#In TensorFlow/Keras, optimizers are crucial components used to adjust the weights of the model during training in order to minimize the loss function.\n",
    "autoencoder_optimizer = Adam() #Adaptive Moment Estimation\n",
    "#an optimizer that combines the advantages of two other extensions of stochastic gradient descent (SGD): AdaGrad and RMSProp. It computes adaptive learning rates for each parameter, making it well-suited for a variety of problems.\n",
    "\n",
    "#Initializes the Adam optimizer with default hyperparameters:\n",
    "# - learning_rate: Default is 0.001. This controls the step size during optimization.\n",
    "# - beta_1: Default is 0.9. The exponential decay rate for the first moment estimates\n",
    "# - beta_2: Default is 0.999. The exponential decay rate for the second-moment estimates\n",
    "# - epsilon: Default is 1e-7. A small constant to prevent division by zero"
   ]
  },
  {
   "cell_type": "markdown",
   "metadata": {},
   "source": [
    "Mathematical Functions Used in Adam\n",
    "\n",
    "### 1. Parameter Update Rule\n",
    "\n",
    "The parameters are updated using the following formula:\n",
    "\n",
    "$ \\theta_{t+1} = \\theta_t - \\frac{\\eta}{\\sqrt{\\hat{v}_t} + \\epsilon} \\cdot \\hat{m}_t $\n",
    "\n",
    "where:\n",
    "- $ \\theta_t $ is the parameter at time step $ t $.\n",
    "- $ \\eta $ is the learning rate.\n",
    "- $ \\epsilon $ is a small constant to prevent division by zero.\n",
    "- $ \\hat{m}_t $ is the bias-corrected first moment estimate.\n",
    "- $ \\hat{v}_t $ is the bias-corrected second moment estimate.\n",
    "\n",
    "### 2. First Moment Estimate\n",
    "\n",
    "The first moment estimate (mean of gradients) is updated using:\n",
    "\n",
    "$ m_t = \\beta_1 m_{t-1} + (1 - \\beta_1) g_t $\n",
    "\n",
    "where:\n",
    "- $ m_t $ is the first moment estimate at time step $ t $.\n",
    "- $ m_{t-1} $ is the first moment estimate at the previous time step.\n",
    "- $ g_t $ is the gradient of the loss function with respect to the parameter at time step $ t $.\n",
    "- $ \\beta_1 $ is the exponential decay rate for the first moment estimates.\n",
    "\n",
    "### 3. Second Moment Estimate\n",
    "\n",
    "The second moment estimate (uncentered variance of gradients) is updated using:\n",
    "\n",
    "$ v_t = \\beta_2 v_{t-1} + (1 - \\beta_2) g_t^2 $\n",
    "\n",
    "where:\n",
    "- $ v_t $ is the second moment estimate at time step $ t $.\n",
    "- $ v_{t-1} $ is the second moment estimate at the previous time step.\n",
    "- $ \\beta_2 $ is the exponential decay rate for the second moment estimates.\n",
    "\n",
    "### 4. Bias Correction\n",
    "\n",
    "Adam applies bias correction to the first and second moment estimates:\n",
    "\n",
    "$ \\hat{m}_t = \\frac{m_t}{1 - \\beta_1^t} $\n",
    "\n",
    "$ \\hat{v}_t = \\frac{v_t}{1 - \\beta_2^t} $\n",
    "\n",
    "where:\n",
    "- $ \\hat{m}_t $ is the bias-corrected first moment estimate.\n",
    "- $ \\hat{v}_t $ is the bias-corrected second moment estimate.\n",
    "\n",
    "### Hyperparameters\n",
    "\n",
    "- **Learning Rate ($\\eta$)**: Controls the step size during optimization. Default is 0.001.\n",
    "- **$\\beta_1$**: Exponential decay rate for the first moment estimate. Default is 0.9.\n",
    "- **$\\beta_2$**: Exponential decay rate for the second moment estimate. Default is 0.999.\n",
    "- **$\\epsilon$**: A small constant to prevent division by zero. Default is $1 \\times 10^{-7}$.\n"
   ]
  },
  {
   "cell_type": "markdown",
   "metadata": {},
   "source": [
    "# Autoencoder Training Step"
   ]
  },
  {
   "cell_type": "code",
   "execution_count": 71,
   "metadata": {},
   "outputs": [],
   "source": [
    "@tf.function\n",
    "def train_autoencoder_init(x):\n",
    "    with tf.GradientTape() as tape:\n",
    "        x_tilde = autoencoder(x)\n",
    "        embedding_loss_t0 = mse(x, x_tilde)\n",
    "        e_loss_0 = tf.sqrt(embedding_loss_t0)\n",
    "\n",
    "    var_list = embedder.trainable_variables + recovery.trainable_variables\n",
    "    gradients = tape.gradient(e_loss_0, var_list)\n",
    "    autoencoder_optimizer.apply_gradients(zip(gradients, var_list))\n",
    "    print(tf.sqrt(embedding_loss_t0))\n",
    "    return tf.sqrt(embedding_loss_t0)"
   ]
  },
  {
   "cell_type": "code",
   "execution_count": 112,
   "metadata": {},
   "outputs": [
    {
     "data": {
      "text/plain": [
       "[<KerasVariable shape=(2, 72), dtype=float32, path=Embedder/GRU_1/gru_cell/kernel>,\n",
       " <KerasVariable shape=(24, 72), dtype=float32, path=Embedder/GRU_1/gru_cell/recurrent_kernel>,\n",
       " <KerasVariable shape=(2, 72), dtype=float32, path=Embedder/GRU_1/gru_cell/bias>,\n",
       " <KerasVariable shape=(24, 72), dtype=float32, path=Embedder/GRU_2/gru_cell/kernel>,\n",
       " <KerasVariable shape=(24, 72), dtype=float32, path=Embedder/GRU_2/gru_cell/recurrent_kernel>,\n",
       " <KerasVariable shape=(2, 72), dtype=float32, path=Embedder/GRU_2/gru_cell/bias>,\n",
       " <KerasVariable shape=(24, 24), dtype=float32, path=Embedder/OUT/kernel>,\n",
       " <KerasVariable shape=(24,), dtype=float32, path=Embedder/OUT/bias>]"
      ]
     },
     "execution_count": 112,
     "metadata": {},
     "output_type": "execute_result"
    }
   ],
   "source": [
    "embedder.trainable_variables"
   ]
  },
  {
   "cell_type": "code",
   "execution_count": 113,
   "metadata": {},
   "outputs": [
    {
     "data": {
      "text/plain": [
       "[<KerasVariable shape=(24, 72), dtype=float32, path=Recovery/GRU_1/gru_cell/kernel>,\n",
       " <KerasVariable shape=(24, 72), dtype=float32, path=Recovery/GRU_1/gru_cell/recurrent_kernel>,\n",
       " <KerasVariable shape=(2, 72), dtype=float32, path=Recovery/GRU_1/gru_cell/bias>,\n",
       " <KerasVariable shape=(24, 72), dtype=float32, path=Recovery/GRU_2/gru_cell/kernel>,\n",
       " <KerasVariable shape=(24, 72), dtype=float32, path=Recovery/GRU_2/gru_cell/recurrent_kernel>,\n",
       " <KerasVariable shape=(2, 72), dtype=float32, path=Recovery/GRU_2/gru_cell/bias>,\n",
       " <KerasVariable shape=(24, 2), dtype=float32, path=Recovery/OUT/kernel>,\n",
       " <KerasVariable shape=(2,), dtype=float32, path=Recovery/OUT/bias>]"
      ]
     },
     "execution_count": 113,
     "metadata": {},
     "output_type": "execute_result"
    }
   ],
   "source": [
    "recovery.trainable_variables"
   ]
  },
  {
   "cell_type": "markdown",
   "metadata": {},
   "source": [
    "# Autoencoder Training Loop"
   ]
  },
  {
   "cell_type": "code",
   "execution_count": 72,
   "metadata": {},
   "outputs": [
    {
     "name": "stderr",
     "output_type": "stream",
     "text": [
      "\r",
      "  0%|                                                                                        | 0/10000 [00:00<?, ?it/s]"
     ]
    },
    {
     "name": "stdout",
     "output_type": "stream",
     "text": [
      "Tensor(\"Sqrt_1:0\", shape=(), dtype=float32)\n",
      "Tensor(\"Sqrt_1:0\", shape=(), dtype=float32)\n"
     ]
    },
    {
     "name": "stderr",
     "output_type": "stream",
     "text": [
      "  0%|▏                                                                              | 29/10000 [00:08<11:33, 14.39it/s]"
     ]
    },
    {
     "name": "stdout",
     "output_type": "stream",
     "text": [
      "Tensor(\"Sqrt_1:0\", shape=(), dtype=float32)\n"
     ]
    },
    {
     "name": "stderr",
     "output_type": "stream",
     "text": [
      "100%|████████████████████████████████████████████████████████████████████████████| 10000/10000 [08:39<00:00, 19.24it/s]\n"
     ]
    }
   ],
   "source": [
    "for step in tqdm(range(train_steps)): #creates a progress bar for the loop, which iterates over the range of train_steps\n",
    "    # Fetch the next batch of data\n",
    "    X_ = next(real_series_iter) \n",
    "    \n",
    "    # Train the autoencoder and get the loss value\n",
    "    step_e_loss_t0 = train_autoencoder_init(X_) #performs a training step for the autoencoder on the input data\n",
    "    \n",
    "    ## Log the loss value using TensorBoard\n",
    "    with writer.as_default():\n",
    "        tf.summary.scalar('Loss Autoencoder Init', step_e_loss_t0, step=step)"
   ]
  },
  {
   "cell_type": "markdown",
   "metadata": {},
   "source": [
    "# Persist model"
   ]
  },
  {
   "cell_type": "code",
   "execution_count": 74,
   "metadata": {},
   "outputs": [],
   "source": [
    "#autoencoder.save(log_dir / 'autoencoder')"
   ]
  },
  {
   "cell_type": "markdown",
   "metadata": {},
   "source": [
    "# Phase 2: Supervised training"
   ]
  },
  {
   "cell_type": "markdown",
   "metadata": {},
   "source": [
    "# Define Optimizer"
   ]
  },
  {
   "cell_type": "code",
   "execution_count": 75,
   "metadata": {},
   "outputs": [],
   "source": [
    "supervisor_optimizer = Adam()"
   ]
  },
  {
   "cell_type": "markdown",
   "metadata": {},
   "source": [
    "# Train Step"
   ]
  },
  {
   "cell_type": "code",
   "execution_count": 76,
   "metadata": {},
   "outputs": [],
   "source": [
    "#Converts the function into a TensorFlow graph for optimized execution\n",
    "@tf.function\n",
    "\n",
    "def train_supervisor(x):\n",
    "    #Records operations for automatic gradient computation\n",
    "    with tf.GradientTape() as tape:\n",
    "        h = embedder(x)\n",
    "        h_hat_supervised = supervisor(h)\n",
    "        #Computes the loss using Mean Squared Error\n",
    "        g_loss_s = mse(h[:, 1:, :], h_hat_supervised[:, 1:, :])\n",
    "        #h[:, 1:, :] = true values and h_hat_supervised[:, 1:, :] = predicted values\n",
    "    #Retrieves the variables (weights and biases) of the supervisor model that are trainable.\n",
    "    var_list = supervisor.trainable_variables\n",
    "    #Computes the gradients of the loss g_loss_s with respect to the trainable variables.\n",
    "    gradients = tape.gradient(g_loss_s, var_list)\n",
    "    #Applies the gradients to the model’s variables to minimize the loss.\n",
    "    supervisor_optimizer.apply_gradients(zip(gradients, var_list))\n",
    "    return g_loss_s"
   ]
  },
  {
   "cell_type": "markdown",
   "metadata": {},
   "source": [
    "# Training Loop"
   ]
  },
  {
   "cell_type": "code",
   "execution_count": 77,
   "metadata": {},
   "outputs": [
    {
     "name": "stderr",
     "output_type": "stream",
     "text": [
      "100%|████████████████████████████████████████████████████████████████████████████| 10000/10000 [06:21<00:00, 26.23it/s]\n"
     ]
    }
   ],
   "source": [
    "for step in tqdm(range(train_steps)):#creates a progress bar for the loop, which iterates over the range of train_steps\n",
    "    # Fetch the next batch of data\n",
    "    X_ = next(real_series_iter)\n",
    "    # Train the autoencoder and get the loss value\n",
    "    step_g_loss_s = train_supervisor(X_)\n",
    "    with writer.as_default():\n",
    "        tf.summary.scalar('Loss Generator Supervised Init', step_g_loss_s, step=step)"
   ]
  },
  {
   "cell_type": "markdown",
   "metadata": {},
   "source": [
    "# Persist Model"
   ]
  },
  {
   "cell_type": "code",
   "execution_count": 36,
   "metadata": {},
   "outputs": [],
   "source": [
    "# supervisor.save(log_dir / 'supervisor')"
   ]
  },
  {
   "cell_type": "markdown",
   "metadata": {},
   "source": [
    "# Joint Training"
   ]
  },
  {
   "cell_type": "markdown",
   "metadata": {},
   "source": [
    "# Generator Adversarial Architecture - Supervised"
   ]
  },
  {
   "cell_type": "code",
   "execution_count": 78,
   "metadata": {},
   "outputs": [],
   "source": [
    "#Generate Fake Data\n",
    "E_hat = generator(Z) # Z is a latent vectors sampled from a prior distribution (e.g., a Gaussian or uniform distribution). In our case we use uniform distribution \n",
    "\n",
    "#Apply Supervisor\n",
    "H_hat = supervisor(E_hat) # synthetic data generated by the generator is then passed through the supervisor model\n",
    "\n",
    "#Discriminate Fake Data\n",
    "Y_fake = discriminator(H_hat) # discriminator's prediction for the synthetic data. The discriminator tries to determine whether the data is real or fak\n",
    "\n",
    "#Define Adversarial Model\n",
    "adversarial_supervised = Model(inputs=Z,\n",
    "                               outputs=Y_fake,\n",
    "                               name='AdversarialNetSupervised')"
   ]
  },
  {
   "cell_type": "code",
   "execution_count": 79,
   "metadata": {},
   "outputs": [
    {
     "data": {
      "text/html": [
       "<pre style=\"white-space:pre;overflow-x:auto;line-height:normal;font-family:Menlo,'DejaVu Sans Mono',consolas,'Courier New',monospace\"><span style=\"font-weight: bold\">Model: \"AdversarialNetSupervised\"</span>\n",
       "</pre>\n"
      ],
      "text/plain": [
       "\u001b[1mModel: \"AdversarialNetSupervised\"\u001b[0m\n"
      ]
     },
     "metadata": {},
     "output_type": "display_data"
    },
    {
     "data": {
      "text/html": [
       "<pre style=\"white-space:pre;overflow-x:auto;line-height:normal;font-family:Menlo,'DejaVu Sans Mono',consolas,'Courier New',monospace\">┏━━━━━━━━━━━━━━━━━━━━━━━━━━━━━━━━━━━━━━┳━━━━━━━━━━━━━━━━━━━━━━━━━━━━━┳━━━━━━━━━━━━━━━━━┓\n",
       "┃<span style=\"font-weight: bold\"> Layer (type)                         </span>┃<span style=\"font-weight: bold\"> Output Shape                </span>┃<span style=\"font-weight: bold\">         Param # </span>┃\n",
       "┡━━━━━━━━━━━━━━━━━━━━━━━━━━━━━━━━━━━━━━╇━━━━━━━━━━━━━━━━━━━━━━━━━━━━━╇━━━━━━━━━━━━━━━━━┩\n",
       "│ RandomData (<span style=\"color: #0087ff; text-decoration-color: #0087ff\">InputLayer</span>)              │ (<span style=\"color: #00d7ff; text-decoration-color: #00d7ff\">None</span>, <span style=\"color: #00af00; text-decoration-color: #00af00\">24</span>, <span style=\"color: #00af00; text-decoration-color: #00af00\">2</span>)               │               <span style=\"color: #00af00; text-decoration-color: #00af00\">0</span> │\n",
       "├──────────────────────────────────────┼─────────────────────────────┼─────────────────┤\n",
       "│ Generator (<span style=\"color: #0087ff; text-decoration-color: #0087ff\">Sequential</span>)               │ (<span style=\"color: #00d7ff; text-decoration-color: #00d7ff\">None</span>, <span style=\"color: #00af00; text-decoration-color: #00af00\">24</span>, <span style=\"color: #00af00; text-decoration-color: #00af00\">24</span>)              │           <span style=\"color: #00af00; text-decoration-color: #00af00\">6,216</span> │\n",
       "├──────────────────────────────────────┼─────────────────────────────┼─────────────────┤\n",
       "│ Supervisor (<span style=\"color: #0087ff; text-decoration-color: #0087ff\">Sequential</span>)              │ (<span style=\"color: #00d7ff; text-decoration-color: #00d7ff\">None</span>, <span style=\"color: #00af00; text-decoration-color: #00af00\">24</span>, <span style=\"color: #00af00; text-decoration-color: #00af00\">24</span>)              │           <span style=\"color: #00af00; text-decoration-color: #00af00\">7,800</span> │\n",
       "├──────────────────────────────────────┼─────────────────────────────┼─────────────────┤\n",
       "│ Discriminator (<span style=\"color: #0087ff; text-decoration-color: #0087ff\">Sequential</span>)           │ (<span style=\"color: #00d7ff; text-decoration-color: #00d7ff\">None</span>, <span style=\"color: #00af00; text-decoration-color: #00af00\">24</span>, <span style=\"color: #00af00; text-decoration-color: #00af00\">1</span>)               │           <span style=\"color: #00af00; text-decoration-color: #00af00\">7,225</span> │\n",
       "└──────────────────────────────────────┴─────────────────────────────┴─────────────────┘\n",
       "</pre>\n"
      ],
      "text/plain": [
       "┏━━━━━━━━━━━━━━━━━━━━━━━━━━━━━━━━━━━━━━┳━━━━━━━━━━━━━━━━━━━━━━━━━━━━━┳━━━━━━━━━━━━━━━━━┓\n",
       "┃\u001b[1m \u001b[0m\u001b[1mLayer (type)                        \u001b[0m\u001b[1m \u001b[0m┃\u001b[1m \u001b[0m\u001b[1mOutput Shape               \u001b[0m\u001b[1m \u001b[0m┃\u001b[1m \u001b[0m\u001b[1m        Param #\u001b[0m\u001b[1m \u001b[0m┃\n",
       "┡━━━━━━━━━━━━━━━━━━━━━━━━━━━━━━━━━━━━━━╇━━━━━━━━━━━━━━━━━━━━━━━━━━━━━╇━━━━━━━━━━━━━━━━━┩\n",
       "│ RandomData (\u001b[38;5;33mInputLayer\u001b[0m)              │ (\u001b[38;5;45mNone\u001b[0m, \u001b[38;5;34m24\u001b[0m, \u001b[38;5;34m2\u001b[0m)               │               \u001b[38;5;34m0\u001b[0m │\n",
       "├──────────────────────────────────────┼─────────────────────────────┼─────────────────┤\n",
       "│ Generator (\u001b[38;5;33mSequential\u001b[0m)               │ (\u001b[38;5;45mNone\u001b[0m, \u001b[38;5;34m24\u001b[0m, \u001b[38;5;34m24\u001b[0m)              │           \u001b[38;5;34m6,216\u001b[0m │\n",
       "├──────────────────────────────────────┼─────────────────────────────┼─────────────────┤\n",
       "│ Supervisor (\u001b[38;5;33mSequential\u001b[0m)              │ (\u001b[38;5;45mNone\u001b[0m, \u001b[38;5;34m24\u001b[0m, \u001b[38;5;34m24\u001b[0m)              │           \u001b[38;5;34m7,800\u001b[0m │\n",
       "├──────────────────────────────────────┼─────────────────────────────┼─────────────────┤\n",
       "│ Discriminator (\u001b[38;5;33mSequential\u001b[0m)           │ (\u001b[38;5;45mNone\u001b[0m, \u001b[38;5;34m24\u001b[0m, \u001b[38;5;34m1\u001b[0m)               │           \u001b[38;5;34m7,225\u001b[0m │\n",
       "└──────────────────────────────────────┴─────────────────────────────┴─────────────────┘\n"
      ]
     },
     "metadata": {},
     "output_type": "display_data"
    },
    {
     "data": {
      "text/html": [
       "<pre style=\"white-space:pre;overflow-x:auto;line-height:normal;font-family:Menlo,'DejaVu Sans Mono',consolas,'Courier New',monospace\"><span style=\"font-weight: bold\"> Total params: </span><span style=\"color: #00af00; text-decoration-color: #00af00\">21,241</span> (82.97 KB)\n",
       "</pre>\n"
      ],
      "text/plain": [
       "\u001b[1m Total params: \u001b[0m\u001b[38;5;34m21,241\u001b[0m (82.97 KB)\n"
      ]
     },
     "metadata": {},
     "output_type": "display_data"
    },
    {
     "data": {
      "text/html": [
       "<pre style=\"white-space:pre;overflow-x:auto;line-height:normal;font-family:Menlo,'DejaVu Sans Mono',consolas,'Courier New',monospace\"><span style=\"font-weight: bold\"> Trainable params: </span><span style=\"color: #00af00; text-decoration-color: #00af00\">21,241</span> (82.97 KB)\n",
       "</pre>\n"
      ],
      "text/plain": [
       "\u001b[1m Trainable params: \u001b[0m\u001b[38;5;34m21,241\u001b[0m (82.97 KB)\n"
      ]
     },
     "metadata": {},
     "output_type": "display_data"
    },
    {
     "data": {
      "text/html": [
       "<pre style=\"white-space:pre;overflow-x:auto;line-height:normal;font-family:Menlo,'DejaVu Sans Mono',consolas,'Courier New',monospace\"><span style=\"font-weight: bold\"> Non-trainable params: </span><span style=\"color: #00af00; text-decoration-color: #00af00\">0</span> (0.00 B)\n",
       "</pre>\n"
      ],
      "text/plain": [
       "\u001b[1m Non-trainable params: \u001b[0m\u001b[38;5;34m0\u001b[0m (0.00 B)\n"
      ]
     },
     "metadata": {},
     "output_type": "display_data"
    }
   ],
   "source": [
    "adversarial_supervised.summary()"
   ]
  },
  {
   "cell_type": "code",
   "execution_count": 84,
   "metadata": {},
   "outputs": [],
   "source": [
    "#plot_model(adversarial_supervised, show_shapes=True)\n",
    "\n"
   ]
  },
  {
   "cell_type": "markdown",
   "metadata": {},
   "source": [
    "# Adversarial Architecture in Latent Space"
   ]
  },
  {
   "cell_type": "code",
   "execution_count": 85,
   "metadata": {},
   "outputs": [],
   "source": [
    "#Discriminating Generated Data\n",
    "Y_fake_e = discriminator(E_hat)\n",
    "\n",
    "# Defining the Adversarial Model\n",
    "adversarial_emb = Model(inputs=Z,\n",
    "                    outputs=Y_fake_e,\n",
    "                    name='AdversarialNet')"
   ]
  },
  {
   "cell_type": "code",
   "execution_count": 86,
   "metadata": {},
   "outputs": [
    {
     "data": {
      "text/html": [
       "<pre style=\"white-space:pre;overflow-x:auto;line-height:normal;font-family:Menlo,'DejaVu Sans Mono',consolas,'Courier New',monospace\"><span style=\"font-weight: bold\">Model: \"AdversarialNet\"</span>\n",
       "</pre>\n"
      ],
      "text/plain": [
       "\u001b[1mModel: \"AdversarialNet\"\u001b[0m\n"
      ]
     },
     "metadata": {},
     "output_type": "display_data"
    },
    {
     "data": {
      "text/html": [
       "<pre style=\"white-space:pre;overflow-x:auto;line-height:normal;font-family:Menlo,'DejaVu Sans Mono',consolas,'Courier New',monospace\">┏━━━━━━━━━━━━━━━━━━━━━━━━━━━━━━━━━━━━━━┳━━━━━━━━━━━━━━━━━━━━━━━━━━━━━┳━━━━━━━━━━━━━━━━━┓\n",
       "┃<span style=\"font-weight: bold\"> Layer (type)                         </span>┃<span style=\"font-weight: bold\"> Output Shape                </span>┃<span style=\"font-weight: bold\">         Param # </span>┃\n",
       "┡━━━━━━━━━━━━━━━━━━━━━━━━━━━━━━━━━━━━━━╇━━━━━━━━━━━━━━━━━━━━━━━━━━━━━╇━━━━━━━━━━━━━━━━━┩\n",
       "│ RandomData (<span style=\"color: #0087ff; text-decoration-color: #0087ff\">InputLayer</span>)              │ (<span style=\"color: #00d7ff; text-decoration-color: #00d7ff\">None</span>, <span style=\"color: #00af00; text-decoration-color: #00af00\">24</span>, <span style=\"color: #00af00; text-decoration-color: #00af00\">2</span>)               │               <span style=\"color: #00af00; text-decoration-color: #00af00\">0</span> │\n",
       "├──────────────────────────────────────┼─────────────────────────────┼─────────────────┤\n",
       "│ Generator (<span style=\"color: #0087ff; text-decoration-color: #0087ff\">Sequential</span>)               │ (<span style=\"color: #00d7ff; text-decoration-color: #00d7ff\">None</span>, <span style=\"color: #00af00; text-decoration-color: #00af00\">24</span>, <span style=\"color: #00af00; text-decoration-color: #00af00\">24</span>)              │           <span style=\"color: #00af00; text-decoration-color: #00af00\">6,216</span> │\n",
       "├──────────────────────────────────────┼─────────────────────────────┼─────────────────┤\n",
       "│ Discriminator (<span style=\"color: #0087ff; text-decoration-color: #0087ff\">Sequential</span>)           │ (<span style=\"color: #00d7ff; text-decoration-color: #00d7ff\">None</span>, <span style=\"color: #00af00; text-decoration-color: #00af00\">24</span>, <span style=\"color: #00af00; text-decoration-color: #00af00\">1</span>)               │           <span style=\"color: #00af00; text-decoration-color: #00af00\">7,225</span> │\n",
       "└──────────────────────────────────────┴─────────────────────────────┴─────────────────┘\n",
       "</pre>\n"
      ],
      "text/plain": [
       "┏━━━━━━━━━━━━━━━━━━━━━━━━━━━━━━━━━━━━━━┳━━━━━━━━━━━━━━━━━━━━━━━━━━━━━┳━━━━━━━━━━━━━━━━━┓\n",
       "┃\u001b[1m \u001b[0m\u001b[1mLayer (type)                        \u001b[0m\u001b[1m \u001b[0m┃\u001b[1m \u001b[0m\u001b[1mOutput Shape               \u001b[0m\u001b[1m \u001b[0m┃\u001b[1m \u001b[0m\u001b[1m        Param #\u001b[0m\u001b[1m \u001b[0m┃\n",
       "┡━━━━━━━━━━━━━━━━━━━━━━━━━━━━━━━━━━━━━━╇━━━━━━━━━━━━━━━━━━━━━━━━━━━━━╇━━━━━━━━━━━━━━━━━┩\n",
       "│ RandomData (\u001b[38;5;33mInputLayer\u001b[0m)              │ (\u001b[38;5;45mNone\u001b[0m, \u001b[38;5;34m24\u001b[0m, \u001b[38;5;34m2\u001b[0m)               │               \u001b[38;5;34m0\u001b[0m │\n",
       "├──────────────────────────────────────┼─────────────────────────────┼─────────────────┤\n",
       "│ Generator (\u001b[38;5;33mSequential\u001b[0m)               │ (\u001b[38;5;45mNone\u001b[0m, \u001b[38;5;34m24\u001b[0m, \u001b[38;5;34m24\u001b[0m)              │           \u001b[38;5;34m6,216\u001b[0m │\n",
       "├──────────────────────────────────────┼─────────────────────────────┼─────────────────┤\n",
       "│ Discriminator (\u001b[38;5;33mSequential\u001b[0m)           │ (\u001b[38;5;45mNone\u001b[0m, \u001b[38;5;34m24\u001b[0m, \u001b[38;5;34m1\u001b[0m)               │           \u001b[38;5;34m7,225\u001b[0m │\n",
       "└──────────────────────────────────────┴─────────────────────────────┴─────────────────┘\n"
      ]
     },
     "metadata": {},
     "output_type": "display_data"
    },
    {
     "data": {
      "text/html": [
       "<pre style=\"white-space:pre;overflow-x:auto;line-height:normal;font-family:Menlo,'DejaVu Sans Mono',consolas,'Courier New',monospace\"><span style=\"font-weight: bold\"> Total params: </span><span style=\"color: #00af00; text-decoration-color: #00af00\">13,441</span> (52.50 KB)\n",
       "</pre>\n"
      ],
      "text/plain": [
       "\u001b[1m Total params: \u001b[0m\u001b[38;5;34m13,441\u001b[0m (52.50 KB)\n"
      ]
     },
     "metadata": {},
     "output_type": "display_data"
    },
    {
     "data": {
      "text/html": [
       "<pre style=\"white-space:pre;overflow-x:auto;line-height:normal;font-family:Menlo,'DejaVu Sans Mono',consolas,'Courier New',monospace\"><span style=\"font-weight: bold\"> Trainable params: </span><span style=\"color: #00af00; text-decoration-color: #00af00\">13,441</span> (52.50 KB)\n",
       "</pre>\n"
      ],
      "text/plain": [
       "\u001b[1m Trainable params: \u001b[0m\u001b[38;5;34m13,441\u001b[0m (52.50 KB)\n"
      ]
     },
     "metadata": {},
     "output_type": "display_data"
    },
    {
     "data": {
      "text/html": [
       "<pre style=\"white-space:pre;overflow-x:auto;line-height:normal;font-family:Menlo,'DejaVu Sans Mono',consolas,'Courier New',monospace\"><span style=\"font-weight: bold\"> Non-trainable params: </span><span style=\"color: #00af00; text-decoration-color: #00af00\">0</span> (0.00 B)\n",
       "</pre>\n"
      ],
      "text/plain": [
       "\u001b[1m Non-trainable params: \u001b[0m\u001b[38;5;34m0\u001b[0m (0.00 B)\n"
      ]
     },
     "metadata": {},
     "output_type": "display_data"
    }
   ],
   "source": [
    "adversarial_emb.summary()"
   ]
  },
  {
   "cell_type": "code",
   "execution_count": 88,
   "metadata": {},
   "outputs": [],
   "source": [
    "#plot_model(adversarial_emb, show_shapes=True)"
   ]
  },
  {
   "cell_type": "markdown",
   "metadata": {},
   "source": [
    "# Mean & Variance Loss"
   ]
  },
  {
   "cell_type": "code",
   "execution_count": 89,
   "metadata": {},
   "outputs": [],
   "source": [
    "#Reconstructing Data\n",
    "X_hat = recovery(H_hat)\n",
    "synthetic_data = Model(inputs=Z,\n",
    "                       outputs=X_hat,\n",
    "                       name='SyntheticData')"
   ]
  },
  {
   "cell_type": "code",
   "execution_count": 90,
   "metadata": {},
   "outputs": [
    {
     "data": {
      "text/html": [
       "<pre style=\"white-space:pre;overflow-x:auto;line-height:normal;font-family:Menlo,'DejaVu Sans Mono',consolas,'Courier New',monospace\"><span style=\"font-weight: bold\">Model: \"SyntheticData\"</span>\n",
       "</pre>\n"
      ],
      "text/plain": [
       "\u001b[1mModel: \"SyntheticData\"\u001b[0m\n"
      ]
     },
     "metadata": {},
     "output_type": "display_data"
    },
    {
     "data": {
      "text/html": [
       "<pre style=\"white-space:pre;overflow-x:auto;line-height:normal;font-family:Menlo,'DejaVu Sans Mono',consolas,'Courier New',monospace\">┏━━━━━━━━━━━━━━━━━━━━━━━━━━━━━━━━━━━━━━┳━━━━━━━━━━━━━━━━━━━━━━━━━━━━━┳━━━━━━━━━━━━━━━━━┓\n",
       "┃<span style=\"font-weight: bold\"> Layer (type)                         </span>┃<span style=\"font-weight: bold\"> Output Shape                </span>┃<span style=\"font-weight: bold\">         Param # </span>┃\n",
       "┡━━━━━━━━━━━━━━━━━━━━━━━━━━━━━━━━━━━━━━╇━━━━━━━━━━━━━━━━━━━━━━━━━━━━━╇━━━━━━━━━━━━━━━━━┩\n",
       "│ RandomData (<span style=\"color: #0087ff; text-decoration-color: #0087ff\">InputLayer</span>)              │ (<span style=\"color: #00d7ff; text-decoration-color: #00d7ff\">None</span>, <span style=\"color: #00af00; text-decoration-color: #00af00\">24</span>, <span style=\"color: #00af00; text-decoration-color: #00af00\">2</span>)               │               <span style=\"color: #00af00; text-decoration-color: #00af00\">0</span> │\n",
       "├──────────────────────────────────────┼─────────────────────────────┼─────────────────┤\n",
       "│ Generator (<span style=\"color: #0087ff; text-decoration-color: #0087ff\">Sequential</span>)               │ (<span style=\"color: #00d7ff; text-decoration-color: #00d7ff\">None</span>, <span style=\"color: #00af00; text-decoration-color: #00af00\">24</span>, <span style=\"color: #00af00; text-decoration-color: #00af00\">24</span>)              │           <span style=\"color: #00af00; text-decoration-color: #00af00\">6,216</span> │\n",
       "├──────────────────────────────────────┼─────────────────────────────┼─────────────────┤\n",
       "│ Supervisor (<span style=\"color: #0087ff; text-decoration-color: #0087ff\">Sequential</span>)              │ (<span style=\"color: #00d7ff; text-decoration-color: #00d7ff\">None</span>, <span style=\"color: #00af00; text-decoration-color: #00af00\">24</span>, <span style=\"color: #00af00; text-decoration-color: #00af00\">24</span>)              │           <span style=\"color: #00af00; text-decoration-color: #00af00\">7,800</span> │\n",
       "├──────────────────────────────────────┼─────────────────────────────┼─────────────────┤\n",
       "│ Recovery (<span style=\"color: #0087ff; text-decoration-color: #0087ff\">Sequential</span>)                │ (<span style=\"color: #00d7ff; text-decoration-color: #00d7ff\">None</span>, <span style=\"color: #00af00; text-decoration-color: #00af00\">24</span>, <span style=\"color: #00af00; text-decoration-color: #00af00\">2</span>)               │           <span style=\"color: #00af00; text-decoration-color: #00af00\">7,250</span> │\n",
       "└──────────────────────────────────────┴─────────────────────────────┴─────────────────┘\n",
       "</pre>\n"
      ],
      "text/plain": [
       "┏━━━━━━━━━━━━━━━━━━━━━━━━━━━━━━━━━━━━━━┳━━━━━━━━━━━━━━━━━━━━━━━━━━━━━┳━━━━━━━━━━━━━━━━━┓\n",
       "┃\u001b[1m \u001b[0m\u001b[1mLayer (type)                        \u001b[0m\u001b[1m \u001b[0m┃\u001b[1m \u001b[0m\u001b[1mOutput Shape               \u001b[0m\u001b[1m \u001b[0m┃\u001b[1m \u001b[0m\u001b[1m        Param #\u001b[0m\u001b[1m \u001b[0m┃\n",
       "┡━━━━━━━━━━━━━━━━━━━━━━━━━━━━━━━━━━━━━━╇━━━━━━━━━━━━━━━━━━━━━━━━━━━━━╇━━━━━━━━━━━━━━━━━┩\n",
       "│ RandomData (\u001b[38;5;33mInputLayer\u001b[0m)              │ (\u001b[38;5;45mNone\u001b[0m, \u001b[38;5;34m24\u001b[0m, \u001b[38;5;34m2\u001b[0m)               │               \u001b[38;5;34m0\u001b[0m │\n",
       "├──────────────────────────────────────┼─────────────────────────────┼─────────────────┤\n",
       "│ Generator (\u001b[38;5;33mSequential\u001b[0m)               │ (\u001b[38;5;45mNone\u001b[0m, \u001b[38;5;34m24\u001b[0m, \u001b[38;5;34m24\u001b[0m)              │           \u001b[38;5;34m6,216\u001b[0m │\n",
       "├──────────────────────────────────────┼─────────────────────────────┼─────────────────┤\n",
       "│ Supervisor (\u001b[38;5;33mSequential\u001b[0m)              │ (\u001b[38;5;45mNone\u001b[0m, \u001b[38;5;34m24\u001b[0m, \u001b[38;5;34m24\u001b[0m)              │           \u001b[38;5;34m7,800\u001b[0m │\n",
       "├──────────────────────────────────────┼─────────────────────────────┼─────────────────┤\n",
       "│ Recovery (\u001b[38;5;33mSequential\u001b[0m)                │ (\u001b[38;5;45mNone\u001b[0m, \u001b[38;5;34m24\u001b[0m, \u001b[38;5;34m2\u001b[0m)               │           \u001b[38;5;34m7,250\u001b[0m │\n",
       "└──────────────────────────────────────┴─────────────────────────────┴─────────────────┘\n"
      ]
     },
     "metadata": {},
     "output_type": "display_data"
    },
    {
     "data": {
      "text/html": [
       "<pre style=\"white-space:pre;overflow-x:auto;line-height:normal;font-family:Menlo,'DejaVu Sans Mono',consolas,'Courier New',monospace\"><span style=\"font-weight: bold\"> Total params: </span><span style=\"color: #00af00; text-decoration-color: #00af00\">21,266</span> (83.07 KB)\n",
       "</pre>\n"
      ],
      "text/plain": [
       "\u001b[1m Total params: \u001b[0m\u001b[38;5;34m21,266\u001b[0m (83.07 KB)\n"
      ]
     },
     "metadata": {},
     "output_type": "display_data"
    },
    {
     "data": {
      "text/html": [
       "<pre style=\"white-space:pre;overflow-x:auto;line-height:normal;font-family:Menlo,'DejaVu Sans Mono',consolas,'Courier New',monospace\"><span style=\"font-weight: bold\"> Trainable params: </span><span style=\"color: #00af00; text-decoration-color: #00af00\">21,266</span> (83.07 KB)\n",
       "</pre>\n"
      ],
      "text/plain": [
       "\u001b[1m Trainable params: \u001b[0m\u001b[38;5;34m21,266\u001b[0m (83.07 KB)\n"
      ]
     },
     "metadata": {},
     "output_type": "display_data"
    },
    {
     "data": {
      "text/html": [
       "<pre style=\"white-space:pre;overflow-x:auto;line-height:normal;font-family:Menlo,'DejaVu Sans Mono',consolas,'Courier New',monospace\"><span style=\"font-weight: bold\"> Non-trainable params: </span><span style=\"color: #00af00; text-decoration-color: #00af00\">0</span> (0.00 B)\n",
       "</pre>\n"
      ],
      "text/plain": [
       "\u001b[1m Non-trainable params: \u001b[0m\u001b[38;5;34m0\u001b[0m (0.00 B)\n"
      ]
     },
     "metadata": {},
     "output_type": "display_data"
    }
   ],
   "source": [
    "synthetic_data.summary()"
   ]
  },
  {
   "cell_type": "code",
   "execution_count": 91,
   "metadata": {},
   "outputs": [],
   "source": [
    "#plot_model(synthetic_data, show_shapes=True)"
   ]
  },
  {
   "cell_type": "code",
   "execution_count": 94,
   "metadata": {},
   "outputs": [],
   "source": [
    "def get_generator_moment_loss(y_true, y_pred):\n",
    "    # Compute the mean and variance of the true data\n",
    "    y_true_mean, y_true_var = tf.nn.moments(x=y_true, axes=[0])\n",
    "    \n",
    "    # Compute the mean and variance of the predicted data\n",
    "    y_pred_mean, y_pred_var = tf.nn.moments(x=y_pred, axes=[0])\n",
    "    \n",
    "    # Compute the mean absolute error between the true and predicted means\n",
    "    g_loss_mean = tf.reduce_mean(tf.abs(y_true_mean - y_pred_mean))\n",
    "    \n",
    "    # Compute the mean absolute error between the true and predicted variances\n",
    "    g_loss_var = tf.reduce_mean(tf.abs(tf.sqrt(y_true_var + 1e-6) - tf.sqrt(y_pred_var + 1e-6)))\n",
    "    \n",
    "    # Return the total loss as the sum of the mean and variance losses\n",
    "    return g_loss_mean + g_loss_var\n"
   ]
  },
  {
   "cell_type": "markdown",
   "metadata": {},
   "source": [
    "# Discriminator Architecture: Real Data"
   ]
  },
  {
   "cell_type": "code",
   "execution_count": 95,
   "metadata": {},
   "outputs": [],
   "source": [
    "#Discriminating Real Data\n",
    "Y_real = discriminator(H)\n",
    "discriminator_model = Model(inputs=X,\n",
    "                            outputs=Y_real,\n",
    "                            name='DiscriminatorReal')"
   ]
  },
  {
   "cell_type": "code",
   "execution_count": 96,
   "metadata": {},
   "outputs": [
    {
     "data": {
      "text/html": [
       "<pre style=\"white-space:pre;overflow-x:auto;line-height:normal;font-family:Menlo,'DejaVu Sans Mono',consolas,'Courier New',monospace\"><span style=\"font-weight: bold\">Model: \"DiscriminatorReal\"</span>\n",
       "</pre>\n"
      ],
      "text/plain": [
       "\u001b[1mModel: \"DiscriminatorReal\"\u001b[0m\n"
      ]
     },
     "metadata": {},
     "output_type": "display_data"
    },
    {
     "data": {
      "text/html": [
       "<pre style=\"white-space:pre;overflow-x:auto;line-height:normal;font-family:Menlo,'DejaVu Sans Mono',consolas,'Courier New',monospace\">┏━━━━━━━━━━━━━━━━━━━━━━━━━━━━━━━━━━━━━━┳━━━━━━━━━━━━━━━━━━━━━━━━━━━━━┳━━━━━━━━━━━━━━━━━┓\n",
       "┃<span style=\"font-weight: bold\"> Layer (type)                         </span>┃<span style=\"font-weight: bold\"> Output Shape                </span>┃<span style=\"font-weight: bold\">         Param # </span>┃\n",
       "┡━━━━━━━━━━━━━━━━━━━━━━━━━━━━━━━━━━━━━━╇━━━━━━━━━━━━━━━━━━━━━━━━━━━━━╇━━━━━━━━━━━━━━━━━┩\n",
       "│ RealData (<span style=\"color: #0087ff; text-decoration-color: #0087ff\">InputLayer</span>)                │ (<span style=\"color: #00d7ff; text-decoration-color: #00d7ff\">None</span>, <span style=\"color: #00af00; text-decoration-color: #00af00\">24</span>, <span style=\"color: #00af00; text-decoration-color: #00af00\">2</span>)               │               <span style=\"color: #00af00; text-decoration-color: #00af00\">0</span> │\n",
       "├──────────────────────────────────────┼─────────────────────────────┼─────────────────┤\n",
       "│ Embedder (<span style=\"color: #0087ff; text-decoration-color: #0087ff\">Sequential</span>)                │ (<span style=\"color: #00d7ff; text-decoration-color: #00d7ff\">None</span>, <span style=\"color: #00af00; text-decoration-color: #00af00\">24</span>, <span style=\"color: #00af00; text-decoration-color: #00af00\">24</span>)              │           <span style=\"color: #00af00; text-decoration-color: #00af00\">6,216</span> │\n",
       "├──────────────────────────────────────┼─────────────────────────────┼─────────────────┤\n",
       "│ Discriminator (<span style=\"color: #0087ff; text-decoration-color: #0087ff\">Sequential</span>)           │ (<span style=\"color: #00d7ff; text-decoration-color: #00d7ff\">None</span>, <span style=\"color: #00af00; text-decoration-color: #00af00\">24</span>, <span style=\"color: #00af00; text-decoration-color: #00af00\">1</span>)               │           <span style=\"color: #00af00; text-decoration-color: #00af00\">7,225</span> │\n",
       "└──────────────────────────────────────┴─────────────────────────────┴─────────────────┘\n",
       "</pre>\n"
      ],
      "text/plain": [
       "┏━━━━━━━━━━━━━━━━━━━━━━━━━━━━━━━━━━━━━━┳━━━━━━━━━━━━━━━━━━━━━━━━━━━━━┳━━━━━━━━━━━━━━━━━┓\n",
       "┃\u001b[1m \u001b[0m\u001b[1mLayer (type)                        \u001b[0m\u001b[1m \u001b[0m┃\u001b[1m \u001b[0m\u001b[1mOutput Shape               \u001b[0m\u001b[1m \u001b[0m┃\u001b[1m \u001b[0m\u001b[1m        Param #\u001b[0m\u001b[1m \u001b[0m┃\n",
       "┡━━━━━━━━━━━━━━━━━━━━━━━━━━━━━━━━━━━━━━╇━━━━━━━━━━━━━━━━━━━━━━━━━━━━━╇━━━━━━━━━━━━━━━━━┩\n",
       "│ RealData (\u001b[38;5;33mInputLayer\u001b[0m)                │ (\u001b[38;5;45mNone\u001b[0m, \u001b[38;5;34m24\u001b[0m, \u001b[38;5;34m2\u001b[0m)               │               \u001b[38;5;34m0\u001b[0m │\n",
       "├──────────────────────────────────────┼─────────────────────────────┼─────────────────┤\n",
       "│ Embedder (\u001b[38;5;33mSequential\u001b[0m)                │ (\u001b[38;5;45mNone\u001b[0m, \u001b[38;5;34m24\u001b[0m, \u001b[38;5;34m24\u001b[0m)              │           \u001b[38;5;34m6,216\u001b[0m │\n",
       "├──────────────────────────────────────┼─────────────────────────────┼─────────────────┤\n",
       "│ Discriminator (\u001b[38;5;33mSequential\u001b[0m)           │ (\u001b[38;5;45mNone\u001b[0m, \u001b[38;5;34m24\u001b[0m, \u001b[38;5;34m1\u001b[0m)               │           \u001b[38;5;34m7,225\u001b[0m │\n",
       "└──────────────────────────────────────┴─────────────────────────────┴─────────────────┘\n"
      ]
     },
     "metadata": {},
     "output_type": "display_data"
    },
    {
     "data": {
      "text/html": [
       "<pre style=\"white-space:pre;overflow-x:auto;line-height:normal;font-family:Menlo,'DejaVu Sans Mono',consolas,'Courier New',monospace\"><span style=\"font-weight: bold\"> Total params: </span><span style=\"color: #00af00; text-decoration-color: #00af00\">13,441</span> (52.50 KB)\n",
       "</pre>\n"
      ],
      "text/plain": [
       "\u001b[1m Total params: \u001b[0m\u001b[38;5;34m13,441\u001b[0m (52.50 KB)\n"
      ]
     },
     "metadata": {},
     "output_type": "display_data"
    },
    {
     "data": {
      "text/html": [
       "<pre style=\"white-space:pre;overflow-x:auto;line-height:normal;font-family:Menlo,'DejaVu Sans Mono',consolas,'Courier New',monospace\"><span style=\"font-weight: bold\"> Trainable params: </span><span style=\"color: #00af00; text-decoration-color: #00af00\">13,441</span> (52.50 KB)\n",
       "</pre>\n"
      ],
      "text/plain": [
       "\u001b[1m Trainable params: \u001b[0m\u001b[38;5;34m13,441\u001b[0m (52.50 KB)\n"
      ]
     },
     "metadata": {},
     "output_type": "display_data"
    },
    {
     "data": {
      "text/html": [
       "<pre style=\"white-space:pre;overflow-x:auto;line-height:normal;font-family:Menlo,'DejaVu Sans Mono',consolas,'Courier New',monospace\"><span style=\"font-weight: bold\"> Non-trainable params: </span><span style=\"color: #00af00; text-decoration-color: #00af00\">0</span> (0.00 B)\n",
       "</pre>\n"
      ],
      "text/plain": [
       "\u001b[1m Non-trainable params: \u001b[0m\u001b[38;5;34m0\u001b[0m (0.00 B)\n"
      ]
     },
     "metadata": {},
     "output_type": "display_data"
    }
   ],
   "source": [
    "discriminator_model.summary()"
   ]
  },
  {
   "cell_type": "code",
   "execution_count": 97,
   "metadata": {},
   "outputs": [],
   "source": [
    "#plot_model(discriminator_model, show_shapes=True)"
   ]
  },
  {
   "cell_type": "markdown",
   "metadata": {},
   "source": [
    "# Optimizers"
   ]
  },
  {
   "cell_type": "code",
   "execution_count": 98,
   "metadata": {},
   "outputs": [],
   "source": [
    "generator_optimizer = Adam()\n",
    "discriminator_optimizer = Adam()\n",
    "embedding_optimizer = Adam()"
   ]
  },
  {
   "cell_type": "markdown",
   "metadata": {},
   "source": [
    "# Generator Train Step"
   ]
  },
  {
   "cell_type": "code",
   "execution_count": 99,
   "metadata": {},
   "outputs": [],
   "source": [
    "@tf.function\n",
    "def train_generator(x, z):\n",
    "    with tf.GradientTape() as tape:\n",
    "        # Forward pass through the adversarial supervised model\n",
    "        y_fake = adversarial_supervised(z)\n",
    "        generator_loss_unsupervised = bce(y_true=tf.ones_like(y_fake), y_pred=y_fake)\n",
    "\n",
    "        # Forward pass through the adversarial embedding model\n",
    "        y_fake_e = adversarial_emb(z)\n",
    "        generator_loss_unsupervised_e = bce(y_true=tf.ones_like(y_fake_e), y_pred=y_fake_e)\n",
    "\n",
    "        # Compute the supervised loss\n",
    "        h = embedder(x)\n",
    "        h_hat_supervised = supervisor(h)\n",
    "        generator_loss_supervised = mse(h[:, 1:, :], h_hat_supervised[:, 1:, :])\n",
    "\n",
    "        # Compute the moment loss\n",
    "        x_hat = synthetic_data(z)\n",
    "        generator_moment_loss = get_generator_moment_loss(x, x_hat)\n",
    "\n",
    "        # Combine the losses\n",
    "        generator_loss = (generator_loss_unsupervised +\n",
    "                          generator_loss_unsupervised_e +\n",
    "                          100 * tf.sqrt(generator_loss_supervised) +\n",
    "                          100 * generator_moment_loss)\n",
    "\n",
    "    # Compute gradients and apply them\n",
    "    var_list = generator.trainable_variables + supervisor.trainable_variables\n",
    "    gradients = tape.gradient(generator_loss, var_list)\n",
    "    generator_optimizer.apply_gradients(zip(gradients, var_list))\n",
    "    \n",
    "    return generator_loss_unsupervised, generator_loss_supervised, generator_moment_loss\n"
   ]
  },
  {
   "cell_type": "markdown",
   "metadata": {},
   "source": [
    "# Embedding Train Step"
   ]
  },
  {
   "cell_type": "code",
   "execution_count": 100,
   "metadata": {},
   "outputs": [],
   "source": [
    "@tf.function\n",
    "def train_embedder(x):\n",
    "    with tf.GradientTape() as tape:\n",
    "        # Generate embeddings for input data\n",
    "        h = embedder(x)\n",
    "        \n",
    "        # Supervised loss: MSE between actual and supervised embeddings\n",
    "        h_hat_supervised = supervisor(h)\n",
    "        generator_loss_supervised = mse(h[:, 1:, :], h_hat_supervised[:, 1:, :])\n",
    "\n",
    "        # Reconstruction loss: MSE between original and reconstructed data\n",
    "        x_tilde = autoencoder(x)\n",
    "        embedding_loss_t0 = mse(x, x_tilde)\n",
    "        \n",
    "        # Combine losses with scaling factors\n",
    "        e_loss = 10 * tf.sqrt(embedding_loss_t0) + 0.1 * generator_loss_supervised\n",
    "\n",
    "    # Compute gradients and apply them\n",
    "    var_list = embedder.trainable_variables + recovery.trainable_variables\n",
    "    gradients = tape.gradient(e_loss, var_list)\n",
    "    embedding_optimizer.apply_gradients(zip(gradients, var_list))\n",
    "    \n",
    "    # Return the reconstruction loss for monitoring\n",
    "    return tf.sqrt(embedding_loss_t0)\n"
   ]
  },
  {
   "cell_type": "markdown",
   "metadata": {},
   "source": [
    "# Discriminator Train Step"
   ]
  },
  {
   "cell_type": "code",
   "execution_count": 102,
   "metadata": {},
   "outputs": [],
   "source": [
    "@tf.function\n",
    "def get_discriminator_loss(x, z):\n",
    "    # Compute discriminator's prediction for real data\n",
    "    y_real = discriminator_model(x)\n",
    "    discriminator_loss_real = bce(y_true=tf.ones_like(y_real), y_pred=y_real)\n",
    "\n",
    "    # Compute discriminator's prediction for fake data generated by the adversarial_supervised model\n",
    "    y_fake = adversarial_supervised(z)\n",
    "    discriminator_loss_fake = bce(y_true=tf.zeros_like(y_fake), y_pred=y_fake)\n",
    "\n",
    "    # Compute discriminator's prediction for fake data generated by the adversarial_emb model\n",
    "    y_fake_e = adversarial_emb(z)\n",
    "    discriminator_loss_fake_e = bce(y_true=tf.zeros_like(y_fake_e), y_pred=y_fake_e)\n",
    "\n",
    "    # Combine all losses\n",
    "    return (discriminator_loss_real +\n",
    "            discriminator_loss_fake +\n",
    "            gamma * discriminator_loss_fake_e)\n",
    "\n",
    "\n",
    "\n",
    "@tf.function\n",
    "def train_discriminator(x, z):\n",
    "    with tf.GradientTape() as tape:\n",
    "        # Compute the discriminator's loss\n",
    "        discriminator_loss = get_discriminator_loss(x, z)\n",
    "\n",
    "    # Retrieve the trainable variables of the discriminator model\n",
    "    var_list = discriminator.trainable_variables\n",
    "    \n",
    "    # Compute the gradients of the loss with respect to the discriminator's variables\n",
    "    gradients = tape.gradient(discriminator_loss, var_list)\n",
    "    \n",
    "    # Apply the gradients to update the discriminator's weights\n",
    "    discriminator_optimizer.apply_gradients(zip(gradients, var_list))\n",
    "    \n",
    "    # Return the computed discriminator loss for monitoring\n",
    "    return discriminator_loss\n"
   ]
  },
  {
   "cell_type": "markdown",
   "metadata": {},
   "source": [
    "# Training Loop"
   ]
  },
  {
   "cell_type": "code",
   "execution_count": 103,
   "metadata": {},
   "outputs": [
    {
     "name": "stdout",
     "output_type": "stream",
     "text": [
      "     0 | d_loss: 12.9427 | g_loss_u: 16.1181 | g_loss_s: 0.0001 | g_loss_v: 0.3470 | e_loss_t0: 0.0373\n",
      " 1,000 | d_loss: 0.9973 | g_loss_u: 1.8792 | g_loss_s: 0.0019 | g_loss_v: 0.0291 | e_loss_t0: 0.0035\n",
      " 2,000 | d_loss: 0.7348 | g_loss_u: 1.6470 | g_loss_s: 0.0009 | g_loss_v: 0.0854 | e_loss_t0: 0.0022\n",
      " 3,000 | d_loss: 16.1181 | g_loss_u: 16.1181 | g_loss_s: 0.0001 | g_loss_v: 0.0288 | e_loss_t0: 0.0020\n",
      " 4,000 | d_loss: 16.1181 | g_loss_u: 16.1181 | g_loss_s: 0.0002 | g_loss_v: 0.0261 | e_loss_t0: 0.0022\n",
      " 5,000 | d_loss: 16.1181 | g_loss_u: 16.1181 | g_loss_s: 0.0002 | g_loss_v: 0.0230 | e_loss_t0: 0.0015\n",
      " 6,000 | d_loss: 16.1181 | g_loss_u: 16.1181 | g_loss_s: 0.0002 | g_loss_v: 0.0326 | e_loss_t0: 0.0018\n",
      " 7,000 | d_loss: 16.1181 | g_loss_u: 16.1181 | g_loss_s: 0.0003 | g_loss_v: 0.0208 | e_loss_t0: 0.0021\n",
      " 8,000 | d_loss: 16.1181 | g_loss_u: 16.1181 | g_loss_s: 0.0003 | g_loss_v: 0.0169 | e_loss_t0: 0.0007\n",
      " 9,000 | d_loss: 16.1181 | g_loss_u: 16.1181 | g_loss_s: 0.0003 | g_loss_v: 0.0227 | e_loss_t0: 0.0018\n"
     ]
    }
   ],
   "source": [
    "step_g_loss_u = step_g_loss_s = step_g_loss_v = step_e_loss_t0 = step_d_loss = 0\n",
    "\n",
    "for step in range(train_steps):\n",
    "    # Train generator (twice as often as discriminator)\n",
    "    for kk in range(2):\n",
    "        X_ = next(real_series_iter)\n",
    "        Z_ = next(random_series)\n",
    "\n",
    "        # Train generator\n",
    "        step_g_loss_u, step_g_loss_s, step_g_loss_v = train_generator(X_, Z_)\n",
    "        # Train embedder\n",
    "        step_e_loss_t0 = train_embedder(X_)\n",
    "\n",
    "    X_ = next(real_series_iter)\n",
    "    Z_ = next(random_series)\n",
    "    step_d_loss = get_discriminator_loss(X_, Z_)\n",
    "    if step_d_loss > 0.15:\n",
    "        step_d_loss = train_discriminator(X_, Z_)\n",
    "\n",
    "    if step % 1000 == 0:\n",
    "        print(f'{step:6,.0f} | d_loss: {step_d_loss:6.4f} | g_loss_u: {step_g_loss_u:6.4f} | '\n",
    "              f'g_loss_s: {step_g_loss_s:6.4f} | g_loss_v: {step_g_loss_v:6.4f} | e_loss_t0: {step_e_loss_t0:6.4f}')\n",
    "\n",
    "    with writer.as_default():\n",
    "        tf.summary.scalar('G Loss S', step_g_loss_s, step=step)\n",
    "        tf.summary.scalar('G Loss U', step_g_loss_u, step=step)\n",
    "        tf.summary.scalar('G Loss V', step_g_loss_v, step=step)\n",
    "        tf.summary.scalar('E Loss T0', step_e_loss_t0, step=step)\n",
    "        tf.summary.scalar('D Loss', step_d_loss, step=step)\n"
   ]
  },
  {
   "cell_type": "markdown",
   "metadata": {},
   "source": [
    "# Persist Synthetic Data Generator"
   ]
  },
  {
   "cell_type": "code",
   "execution_count": 104,
   "metadata": {},
   "outputs": [],
   "source": [
    "#synthetic_data.save(log_dir / 'synthetic_data')"
   ]
  },
  {
   "cell_type": "markdown",
   "metadata": {},
   "source": [
    "# Generate Synthetic Data"
   ]
  },
  {
   "cell_type": "code",
   "execution_count": 105,
   "metadata": {},
   "outputs": [],
   "source": [
    "generated_data = []\n",
    "for i in range(int(n_windows / batch_size)):\n",
    "    Z_ = next(random_series)\n",
    "    d = synthetic_data(Z_)\n",
    "    generated_data.append(d)"
   ]
  },
  {
   "cell_type": "code",
   "execution_count": 106,
   "metadata": {},
   "outputs": [
    {
     "data": {
      "text/plain": [
       "(3968, 24, 2)"
      ]
     },
     "execution_count": 106,
     "metadata": {},
     "output_type": "execute_result"
    }
   ],
   "source": [
    "generated_data = np.array(np.vstack(generated_data))\n",
    "generated_data.shape"
   ]
  },
  {
   "cell_type": "code",
   "execution_count": 107,
   "metadata": {},
   "outputs": [
    {
     "data": {
      "text/plain": [
       "3968"
      ]
     },
     "execution_count": 107,
     "metadata": {},
     "output_type": "execute_result"
    }
   ],
   "source": [
    "len(generated_data)"
   ]
  },
  {
   "cell_type": "code",
   "execution_count": 108,
   "metadata": {},
   "outputs": [],
   "source": [
    "np.save(log_dir / 'generated_data.npy', generated_data)"
   ]
  },
  {
   "cell_type": "markdown",
   "metadata": {},
   "source": [
    "# Rescale"
   ]
  },
  {
   "cell_type": "code",
   "execution_count": 109,
   "metadata": {},
   "outputs": [
    {
     "data": {
      "text/plain": [
       "(3968, 24, 2)"
      ]
     },
     "execution_count": 109,
     "metadata": {},
     "output_type": "execute_result"
    }
   ],
   "source": [
    "generated_data = (scaler.inverse_transform(generated_data\n",
    "                                           .reshape(-1, n_seq))\n",
    "                  .reshape(-1, seq_len, n_seq))\n",
    "generated_data.shape"
   ]
  },
  {
   "cell_type": "markdown",
   "metadata": {},
   "source": [
    "# Persist Data"
   ]
  },
  {
   "cell_type": "code",
   "execution_count": 110,
   "metadata": {},
   "outputs": [],
   "source": [
    "with pd.HDFStore(hdf_store) as store:\n",
    "    store.put('data/synthetic', pd.DataFrame(generated_data.reshape(-1, n_seq),\n",
    "                                             columns=tickers))"
   ]
  },
  {
   "cell_type": "markdown",
   "metadata": {},
   "source": [
    "# Plot sample Series"
   ]
  },
  {
   "cell_type": "code",
   "execution_count": 122,
   "metadata": {},
   "outputs": [
    {
     "data": {
      "image/png": "[encoded data removed]",
      "text/plain": [
       "<Figure size 1400x700 with 4 Axes>"
      ]
     },
     "metadata": {},
     "output_type": "display_data"
    }
   ],
   "source": [
    "# Create the plot\n",
    "fig, axes = plt.subplots(nrows=1, ncols=2, figsize=(14, 7))\n",
    "axes = axes.flatten()\n",
    "\n",
    "# Select random real and synthetic data\n",
    "index = list(range(0, len(data_df)))\n",
    "synthetic = generated_data[np.random.randint(n_windows)]\n",
    "idx = np.random.randint(len(data_df) - seq_len)\n",
    "real = data_df.iloc[idx: idx + seq_len]\n",
    "\n",
    "# Plot each ticker\n",
    "for j, ticker in enumerate(tickers):\n",
    "    pd.DataFrame({'Real': real.iloc[:, j].values,\n",
    "                  'Synthetic': synthetic[:, j]}).plot(\n",
    "        ax=axes[j],\n",
    "        title=ticker,\n",
    "        secondary_y='Synthetic',\n",
    "        style=['-', '--'],\n",
    "        lw=1\n",
    "    )\n",
    "\n",
    "# Customize plot appearance\n",
    "sns.despine()\n",
    "fig.tight_layout()\n",
    "\n",
    "# Show the plot\n",
    "plt.show()"
   ]
  },
  {
   "cell_type": "code",
   "execution_count": null,
   "metadata": {},
   "outputs": [],
   "source": []
  }
 ],
 "metadata": {
  "kernelspec": {
   "display_name": "Python 3 (ipykernel)",
   "language": "python",
   "name": "python3"
  },
  "language_info": {
   "codemirror_mode": {
    "name": "ipython",
    "version": 3
   },
   "file_extension": ".py",
   "mimetype": "text/x-python",
   "name": "python",
   "nbconvert_exporter": "python",
   "pygments_lexer": "ipython3",
   "version": "3.11.5"
  }
 },
 "nbformat": 4,
 "nbformat_minor": 2
}
